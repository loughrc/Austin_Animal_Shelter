{
 "cells": [
  {
   "cell_type": "markdown",
   "metadata": {},
   "source": [
    "## Austin Animal Shelter Outcomes - Basic Data Cleaning and ML\n",
    "\n",
    "The Austin Animal Shelter Outcomes dataset (https://www.kaggle.com/aaronschlegel/austin-animal-center-shelter-outcomes-and) contains information about animals that have come out of their care from the years 2013-2018. In this notebook, I will do a quick cleaning of the dataset, and then train some machine learning models to predict, based on the features in the dataset (as well as some new ones that will be created) what outcome an animal will have (i.e. has the animal been adopted, transferred to another shelter, euthanised, etc.)\n",
    "\n",
    "Some visualisations of the data have been created with Tableau and can be found on Tableau Public here:\n",
    "\n",
    "The first two cells contain code that helps to import the data into a Kaggle notebook using their online server facility. We do not need to use this code here, except for the importing of the pandas and numpy libraries. The scikit learn library will be imported later."
   ]
  },
  {
   "cell_type": "code",
   "execution_count": 43,
   "metadata": {
    "_cell_guid": "b1076dfc-b9ad-4769-8c92-a6c4dae69d19",
    "_uuid": "8f2839f25d086af736a60e9eeb907d3b93b6e0e5"
   },
   "outputs": [],
   "source": [
    "# This Python 3 environment comes with many helpful analytics libraries installed\n",
    "# It is defined by the kaggle/python Docker image: https://github.com/kaggle/docker-python\n",
    "# For example, here's several helpful packages to load\n",
    "\n",
    "import numpy as np # linear algebra\n",
    "import pandas as pd # data processing, CSV file I/O (e.g. pd.read_csv)\n",
    "\n",
    "# Input data files are available in the read-only \"../input/\" directory\n",
    "# For example, running this (by clicking run or pressing Shift+Enter) will list all files under the input directory\n",
    "\n",
    "#import os\n",
    "#for dirname, _, filenames in os.walk('/kaggle/input'):\n",
    "#    for filename in filenames:\n",
    "#        print(os.path.join(dirname, filename))\n",
    "\n",
    "# You can write up to 20GB to the current directory (/kaggle/working/) that gets preserved as output when you create a version using \"Save & Run All\" \n",
    "# You can also write temporary files to /kaggle/temp/, but they won't be saved outside of the current session"
   ]
  },
  {
   "cell_type": "code",
   "execution_count": 44,
   "metadata": {},
   "outputs": [],
   "source": [
    "#df = pd.read_csv(\"/kaggle/input/austin-animal-center-shelter-outcomes-and/aac_shelter_outcomes.csv\")\n",
    "#df"
   ]
  },
  {
   "cell_type": "code",
   "execution_count": 45,
   "metadata": {},
   "outputs": [],
   "source": [
    "# Read in our dataset to the variable df\n",
    "df = pd.read_csv(\"aac_shelter_outcomes.csv\")"
   ]
  },
  {
   "cell_type": "markdown",
   "metadata": {},
   "source": [
    "First we will get a feel for the data by looking at its shape, and looking at some of the features in a little more detail."
   ]
  },
  {
   "cell_type": "code",
   "execution_count": 46,
   "metadata": {},
   "outputs": [
    {
     "data": {
      "text/plain": [
       "(78256, 12)"
      ]
     },
     "execution_count": 46,
     "metadata": {},
     "output_type": "execute_result"
    }
   ],
   "source": [
    "# Check out the shape of the dataset in terms of the number of rows and columns it contains\n",
    "df.shape"
   ]
  },
  {
   "cell_type": "code",
   "execution_count": 47,
   "metadata": {},
   "outputs": [
    {
     "data": {
      "text/plain": [
       "age_upon_outcome    object\n",
       "animal_id           object\n",
       "animal_type         object\n",
       "breed               object\n",
       "color               object\n",
       "date_of_birth       object\n",
       "datetime            object\n",
       "monthyear           object\n",
       "name                object\n",
       "outcome_subtype     object\n",
       "outcome_type        object\n",
       "sex_upon_outcome    object\n",
       "dtype: object"
      ]
     },
     "execution_count": 47,
     "metadata": {},
     "output_type": "execute_result"
    }
   ],
   "source": [
    "# Look at the datatypes \n",
    "df.dtypes"
   ]
  },
  {
   "cell_type": "markdown",
   "metadata": {},
   "source": [
    "No datatypes (except for object) have been defined. We will eventually need to decide whether these features are categorical or numerical."
   ]
  },
  {
   "cell_type": "code",
   "execution_count": 48,
   "metadata": {},
   "outputs": [
    {
     "data": {
      "text/plain": [
       "array(['Cat', 'Dog', 'Other', 'Bird', 'Livestock'], dtype=object)"
      ]
     },
     "execution_count": 48,
     "metadata": {},
     "output_type": "execute_result"
    }
   ],
   "source": [
    "# Check out the different animal types\n",
    "df[\"animal_type\"].unique()"
   ]
  },
  {
   "cell_type": "markdown",
   "metadata": {},
   "source": [
    "Each animal_id is a unique identifier, so we will remove duplicate rows from the dataset based on this column."
   ]
  },
  {
   "cell_type": "code",
   "execution_count": 49,
   "metadata": {},
   "outputs": [],
   "source": [
    "df.drop_duplicates(subset=['animal_id'], inplace=True)"
   ]
  },
  {
   "cell_type": "code",
   "execution_count": 50,
   "metadata": {},
   "outputs": [
    {
     "data": {
      "text/html": [
       "<div>\n",
       "<style scoped>\n",
       "    .dataframe tbody tr th:only-of-type {\n",
       "        vertical-align: middle;\n",
       "    }\n",
       "\n",
       "    .dataframe tbody tr th {\n",
       "        vertical-align: top;\n",
       "    }\n",
       "\n",
       "    .dataframe thead th {\n",
       "        text-align: right;\n",
       "    }\n",
       "</style>\n",
       "<table border=\"1\" class=\"dataframe\">\n",
       "  <thead>\n",
       "    <tr style=\"text-align: right;\">\n",
       "      <th></th>\n",
       "      <th>age_upon_outcome</th>\n",
       "      <th>animal_id</th>\n",
       "      <th>animal_type</th>\n",
       "      <th>breed</th>\n",
       "      <th>color</th>\n",
       "      <th>date_of_birth</th>\n",
       "      <th>datetime</th>\n",
       "      <th>monthyear</th>\n",
       "      <th>name</th>\n",
       "      <th>outcome_subtype</th>\n",
       "      <th>outcome_type</th>\n",
       "      <th>sex_upon_outcome</th>\n",
       "    </tr>\n",
       "  </thead>\n",
       "  <tbody>\n",
       "    <tr>\n",
       "      <th>0</th>\n",
       "      <td>2 weeks</td>\n",
       "      <td>A684346</td>\n",
       "      <td>Cat</td>\n",
       "      <td>Domestic Shorthair Mix</td>\n",
       "      <td>Orange Tabby</td>\n",
       "      <td>2014-07-07T00:00:00</td>\n",
       "      <td>2014-07-22T16:04:00</td>\n",
       "      <td>2014-07-22T16:04:00</td>\n",
       "      <td>NaN</td>\n",
       "      <td>Partner</td>\n",
       "      <td>Transfer</td>\n",
       "      <td>Intact Male</td>\n",
       "    </tr>\n",
       "    <tr>\n",
       "      <th>1</th>\n",
       "      <td>1 year</td>\n",
       "      <td>A666430</td>\n",
       "      <td>Dog</td>\n",
       "      <td>Beagle Mix</td>\n",
       "      <td>White/Brown</td>\n",
       "      <td>2012-11-06T00:00:00</td>\n",
       "      <td>2013-11-07T11:47:00</td>\n",
       "      <td>2013-11-07T11:47:00</td>\n",
       "      <td>Lucy</td>\n",
       "      <td>Partner</td>\n",
       "      <td>Transfer</td>\n",
       "      <td>Spayed Female</td>\n",
       "    </tr>\n",
       "    <tr>\n",
       "      <th>2</th>\n",
       "      <td>1 year</td>\n",
       "      <td>A675708</td>\n",
       "      <td>Dog</td>\n",
       "      <td>Pit Bull</td>\n",
       "      <td>Blue/White</td>\n",
       "      <td>2013-03-31T00:00:00</td>\n",
       "      <td>2014-06-03T14:20:00</td>\n",
       "      <td>2014-06-03T14:20:00</td>\n",
       "      <td>*Johnny</td>\n",
       "      <td>NaN</td>\n",
       "      <td>Adoption</td>\n",
       "      <td>Neutered Male</td>\n",
       "    </tr>\n",
       "    <tr>\n",
       "      <th>3</th>\n",
       "      <td>9 years</td>\n",
       "      <td>A680386</td>\n",
       "      <td>Dog</td>\n",
       "      <td>Miniature Schnauzer Mix</td>\n",
       "      <td>White</td>\n",
       "      <td>2005-06-02T00:00:00</td>\n",
       "      <td>2014-06-15T15:50:00</td>\n",
       "      <td>2014-06-15T15:50:00</td>\n",
       "      <td>Monday</td>\n",
       "      <td>Partner</td>\n",
       "      <td>Transfer</td>\n",
       "      <td>Neutered Male</td>\n",
       "    </tr>\n",
       "    <tr>\n",
       "      <th>4</th>\n",
       "      <td>5 months</td>\n",
       "      <td>A683115</td>\n",
       "      <td>Other</td>\n",
       "      <td>Bat Mix</td>\n",
       "      <td>Brown</td>\n",
       "      <td>2014-01-07T00:00:00</td>\n",
       "      <td>2014-07-07T14:04:00</td>\n",
       "      <td>2014-07-07T14:04:00</td>\n",
       "      <td>NaN</td>\n",
       "      <td>Rabies Risk</td>\n",
       "      <td>Euthanasia</td>\n",
       "      <td>Unknown</td>\n",
       "    </tr>\n",
       "    <tr>\n",
       "      <th>...</th>\n",
       "      <td>...</td>\n",
       "      <td>...</td>\n",
       "      <td>...</td>\n",
       "      <td>...</td>\n",
       "      <td>...</td>\n",
       "      <td>...</td>\n",
       "      <td>...</td>\n",
       "      <td>...</td>\n",
       "      <td>...</td>\n",
       "      <td>...</td>\n",
       "      <td>...</td>\n",
       "      <td>...</td>\n",
       "    </tr>\n",
       "    <tr>\n",
       "      <th>78251</th>\n",
       "      <td>1 month</td>\n",
       "      <td>A764894</td>\n",
       "      <td>Dog</td>\n",
       "      <td>Golden Retriever/Labrador Retriever</td>\n",
       "      <td>Brown/White</td>\n",
       "      <td>2017-12-04T00:00:00</td>\n",
       "      <td>2018-02-01T18:26:00</td>\n",
       "      <td>2018-02-01T18:26:00</td>\n",
       "      <td>NaN</td>\n",
       "      <td>Foster</td>\n",
       "      <td>Adoption</td>\n",
       "      <td>Spayed Female</td>\n",
       "    </tr>\n",
       "    <tr>\n",
       "      <th>78252</th>\n",
       "      <td>3 years</td>\n",
       "      <td>A764468</td>\n",
       "      <td>Dog</td>\n",
       "      <td>Mastiff Mix</td>\n",
       "      <td>Blue/White</td>\n",
       "      <td>2014-12-30T00:00:00</td>\n",
       "      <td>2018-02-01T18:06:00</td>\n",
       "      <td>2018-02-01T18:06:00</td>\n",
       "      <td>Max</td>\n",
       "      <td>NaN</td>\n",
       "      <td>Adoption</td>\n",
       "      <td>Neutered Male</td>\n",
       "    </tr>\n",
       "    <tr>\n",
       "      <th>78253</th>\n",
       "      <td>NaN</td>\n",
       "      <td>A766098</td>\n",
       "      <td>Other</td>\n",
       "      <td>Bat Mix</td>\n",
       "      <td>Brown</td>\n",
       "      <td>2017-02-01T00:00:00</td>\n",
       "      <td>2018-02-01T18:08:00</td>\n",
       "      <td>2018-02-01T18:08:00</td>\n",
       "      <td>NaN</td>\n",
       "      <td>Rabies Risk</td>\n",
       "      <td>Euthanasia</td>\n",
       "      <td>Unknown</td>\n",
       "    </tr>\n",
       "    <tr>\n",
       "      <th>78254</th>\n",
       "      <td>2 months</td>\n",
       "      <td>A765858</td>\n",
       "      <td>Dog</td>\n",
       "      <td>Standard Schnauzer</td>\n",
       "      <td>Red</td>\n",
       "      <td>2017-11-13T00:00:00</td>\n",
       "      <td>2018-02-01T18:32:00</td>\n",
       "      <td>2018-02-01T18:32:00</td>\n",
       "      <td>NaN</td>\n",
       "      <td>NaN</td>\n",
       "      <td>Adoption</td>\n",
       "      <td>Spayed Female</td>\n",
       "    </tr>\n",
       "    <tr>\n",
       "      <th>78255</th>\n",
       "      <td>2 months</td>\n",
       "      <td>A765857</td>\n",
       "      <td>Dog</td>\n",
       "      <td>Labrador Retriever Mix</td>\n",
       "      <td>White/Brown</td>\n",
       "      <td>2017-11-13T00:00:00</td>\n",
       "      <td>2018-02-01T18:44:00</td>\n",
       "      <td>2018-02-01T18:44:00</td>\n",
       "      <td>NaN</td>\n",
       "      <td>NaN</td>\n",
       "      <td>Adoption</td>\n",
       "      <td>Neutered Male</td>\n",
       "    </tr>\n",
       "  </tbody>\n",
       "</table>\n",
       "<p>70855 rows × 12 columns</p>\n",
       "</div>"
      ],
      "text/plain": [
       "      age_upon_outcome animal_id animal_type  \\\n",
       "0              2 weeks   A684346         Cat   \n",
       "1               1 year   A666430         Dog   \n",
       "2               1 year   A675708         Dog   \n",
       "3              9 years   A680386         Dog   \n",
       "4             5 months   A683115       Other   \n",
       "...                ...       ...         ...   \n",
       "78251          1 month   A764894         Dog   \n",
       "78252          3 years   A764468         Dog   \n",
       "78253              NaN   A766098       Other   \n",
       "78254         2 months   A765858         Dog   \n",
       "78255         2 months   A765857         Dog   \n",
       "\n",
       "                                     breed         color        date_of_birth  \\\n",
       "0                   Domestic Shorthair Mix  Orange Tabby  2014-07-07T00:00:00   \n",
       "1                               Beagle Mix   White/Brown  2012-11-06T00:00:00   \n",
       "2                                 Pit Bull    Blue/White  2013-03-31T00:00:00   \n",
       "3                  Miniature Schnauzer Mix         White  2005-06-02T00:00:00   \n",
       "4                                  Bat Mix         Brown  2014-01-07T00:00:00   \n",
       "...                                    ...           ...                  ...   \n",
       "78251  Golden Retriever/Labrador Retriever   Brown/White  2017-12-04T00:00:00   \n",
       "78252                          Mastiff Mix    Blue/White  2014-12-30T00:00:00   \n",
       "78253                              Bat Mix         Brown  2017-02-01T00:00:00   \n",
       "78254                   Standard Schnauzer           Red  2017-11-13T00:00:00   \n",
       "78255               Labrador Retriever Mix   White/Brown  2017-11-13T00:00:00   \n",
       "\n",
       "                  datetime            monthyear     name outcome_subtype  \\\n",
       "0      2014-07-22T16:04:00  2014-07-22T16:04:00      NaN         Partner   \n",
       "1      2013-11-07T11:47:00  2013-11-07T11:47:00     Lucy         Partner   \n",
       "2      2014-06-03T14:20:00  2014-06-03T14:20:00  *Johnny             NaN   \n",
       "3      2014-06-15T15:50:00  2014-06-15T15:50:00   Monday         Partner   \n",
       "4      2014-07-07T14:04:00  2014-07-07T14:04:00      NaN     Rabies Risk   \n",
       "...                    ...                  ...      ...             ...   \n",
       "78251  2018-02-01T18:26:00  2018-02-01T18:26:00      NaN          Foster   \n",
       "78252  2018-02-01T18:06:00  2018-02-01T18:06:00      Max             NaN   \n",
       "78253  2018-02-01T18:08:00  2018-02-01T18:08:00      NaN     Rabies Risk   \n",
       "78254  2018-02-01T18:32:00  2018-02-01T18:32:00      NaN             NaN   \n",
       "78255  2018-02-01T18:44:00  2018-02-01T18:44:00      NaN             NaN   \n",
       "\n",
       "      outcome_type sex_upon_outcome  \n",
       "0         Transfer      Intact Male  \n",
       "1         Transfer    Spayed Female  \n",
       "2         Adoption    Neutered Male  \n",
       "3         Transfer    Neutered Male  \n",
       "4       Euthanasia          Unknown  \n",
       "...            ...              ...  \n",
       "78251     Adoption    Spayed Female  \n",
       "78252     Adoption    Neutered Male  \n",
       "78253   Euthanasia          Unknown  \n",
       "78254     Adoption    Spayed Female  \n",
       "78255     Adoption    Neutered Male  \n",
       "\n",
       "[70855 rows x 12 columns]"
      ]
     },
     "execution_count": 50,
     "metadata": {},
     "output_type": "execute_result"
    }
   ],
   "source": [
    "df"
   ]
  },
  {
   "cell_type": "code",
   "execution_count": 51,
   "metadata": {},
   "outputs": [
    {
     "data": {
      "text/plain": [
       "age_upon_outcome      37\n",
       "animal_id           4235\n",
       "animal_type            1\n",
       "breed                 94\n",
       "color                110\n",
       "date_of_birth       1626\n",
       "datetime            3696\n",
       "monthyear           3696\n",
       "name                 409\n",
       "outcome_subtype       13\n",
       "outcome_type           7\n",
       "sex_upon_outcome       5\n",
       "dtype: int64"
      ]
     },
     "execution_count": 51,
     "metadata": {},
     "output_type": "execute_result"
    }
   ],
   "source": [
    "df[df[\"animal_type\"] == \"Other\"].nunique()"
   ]
  },
  {
   "cell_type": "code",
   "execution_count": 52,
   "metadata": {},
   "outputs": [
    {
     "data": {
      "text/plain": [
       "age_upon_outcome        8\n",
       "animal_id               0\n",
       "animal_type             0\n",
       "breed                   0\n",
       "color                   0\n",
       "date_of_birth           0\n",
       "datetime                0\n",
       "monthyear               0\n",
       "name                23653\n",
       "outcome_subtype     36369\n",
       "outcome_type            8\n",
       "sex_upon_outcome        2\n",
       "dtype: int64"
      ]
     },
     "execution_count": 52,
     "metadata": {},
     "output_type": "execute_result"
    }
   ],
   "source": [
    "# Checking for null values: this is important as it may show us features we have to drop or modify\n",
    "df.isnull().sum()"
   ]
  },
  {
   "cell_type": "markdown",
   "metadata": {},
   "source": [
    "8 row values are missing for the \"age_upon_outcome\" column. We should be able to calculate these based on other existing columns."
   ]
  },
  {
   "cell_type": "code",
   "execution_count": 53,
   "metadata": {
    "scrolled": true
   },
   "outputs": [
    {
     "data": {
      "text/html": [
       "<div>\n",
       "<style scoped>\n",
       "    .dataframe tbody tr th:only-of-type {\n",
       "        vertical-align: middle;\n",
       "    }\n",
       "\n",
       "    .dataframe tbody tr th {\n",
       "        vertical-align: top;\n",
       "    }\n",
       "\n",
       "    .dataframe thead th {\n",
       "        text-align: right;\n",
       "    }\n",
       "</style>\n",
       "<table border=\"1\" class=\"dataframe\">\n",
       "  <thead>\n",
       "    <tr style=\"text-align: right;\">\n",
       "      <th></th>\n",
       "      <th>age_upon_outcome</th>\n",
       "      <th>animal_id</th>\n",
       "      <th>animal_type</th>\n",
       "      <th>breed</th>\n",
       "      <th>color</th>\n",
       "      <th>date_of_birth</th>\n",
       "      <th>datetime</th>\n",
       "      <th>monthyear</th>\n",
       "      <th>name</th>\n",
       "      <th>outcome_subtype</th>\n",
       "      <th>outcome_type</th>\n",
       "      <th>sex_upon_outcome</th>\n",
       "    </tr>\n",
       "  </thead>\n",
       "  <tbody>\n",
       "    <tr>\n",
       "      <th>68246</th>\n",
       "      <td>NaN</td>\n",
       "      <td>A737705</td>\n",
       "      <td>Dog</td>\n",
       "      <td>Labrador Retriever Mix</td>\n",
       "      <td>Black/White</td>\n",
       "      <td>2013-11-02T00:00:00</td>\n",
       "      <td>2016-11-19T16:35:00</td>\n",
       "      <td>2016-11-19T16:35:00</td>\n",
       "      <td>*Heddy</td>\n",
       "      <td>NaN</td>\n",
       "      <td>NaN</td>\n",
       "      <td>NaN</td>\n",
       "    </tr>\n",
       "    <tr>\n",
       "      <th>76825</th>\n",
       "      <td>NaN</td>\n",
       "      <td>A764319</td>\n",
       "      <td>Dog</td>\n",
       "      <td>Pit Bull Mix</td>\n",
       "      <td>Black/White</td>\n",
       "      <td>2016-12-27T00:00:00</td>\n",
       "      <td>2017-12-30T16:47:00</td>\n",
       "      <td>2017-12-30T16:47:00</td>\n",
       "      <td>*Emma</td>\n",
       "      <td>NaN</td>\n",
       "      <td>NaN</td>\n",
       "      <td>Intact Female</td>\n",
       "    </tr>\n",
       "    <tr>\n",
       "      <th>77976</th>\n",
       "      <td>NaN</td>\n",
       "      <td>A765547</td>\n",
       "      <td>Bird</td>\n",
       "      <td>Leghorn Mix</td>\n",
       "      <td>White/Red</td>\n",
       "      <td>2017-01-22T00:00:00</td>\n",
       "      <td>2018-01-25T13:23:00</td>\n",
       "      <td>2018-01-25T13:23:00</td>\n",
       "      <td>NaN</td>\n",
       "      <td>Partner</td>\n",
       "      <td>Transfer</td>\n",
       "      <td>Intact Female</td>\n",
       "    </tr>\n",
       "    <tr>\n",
       "      <th>78081</th>\n",
       "      <td>NaN</td>\n",
       "      <td>A765899</td>\n",
       "      <td>Dog</td>\n",
       "      <td>Miniature Poodle Mix</td>\n",
       "      <td>Black</td>\n",
       "      <td>2011-01-29T00:00:00</td>\n",
       "      <td>2018-01-29T15:49:00</td>\n",
       "      <td>2018-01-29T15:49:00</td>\n",
       "      <td>NaN</td>\n",
       "      <td>Suffering</td>\n",
       "      <td>Euthanasia</td>\n",
       "      <td>Neutered Male</td>\n",
       "    </tr>\n",
       "    <tr>\n",
       "      <th>78114</th>\n",
       "      <td>NaN</td>\n",
       "      <td>A765914</td>\n",
       "      <td>Cat</td>\n",
       "      <td>Domestic Shorthair Mix</td>\n",
       "      <td>Lynx Point</td>\n",
       "      <td>2017-01-29T00:00:00</td>\n",
       "      <td>2018-01-29T18:08:00</td>\n",
       "      <td>2018-01-29T18:08:00</td>\n",
       "      <td>NaN</td>\n",
       "      <td>Suffering</td>\n",
       "      <td>Euthanasia</td>\n",
       "      <td>Intact Male</td>\n",
       "    </tr>\n",
       "    <tr>\n",
       "      <th>78162</th>\n",
       "      <td>NaN</td>\n",
       "      <td>A765901</td>\n",
       "      <td>Dog</td>\n",
       "      <td>Maltese Mix</td>\n",
       "      <td>Buff</td>\n",
       "      <td>2017-01-29T00:00:00</td>\n",
       "      <td>2018-01-31T08:14:00</td>\n",
       "      <td>2018-01-31T08:14:00</td>\n",
       "      <td>NaN</td>\n",
       "      <td>Partner</td>\n",
       "      <td>Transfer</td>\n",
       "      <td>Intact Male</td>\n",
       "    </tr>\n",
       "    <tr>\n",
       "      <th>78208</th>\n",
       "      <td>NaN</td>\n",
       "      <td>A765960</td>\n",
       "      <td>Dog</td>\n",
       "      <td>Beagle/Catahoula</td>\n",
       "      <td>Tan/White</td>\n",
       "      <td>2010-02-01T00:00:00</td>\n",
       "      <td>2018-02-01T09:21:00</td>\n",
       "      <td>2018-02-01T09:21:00</td>\n",
       "      <td>NaN</td>\n",
       "      <td>Suffering</td>\n",
       "      <td>Euthanasia</td>\n",
       "      <td>Intact Male</td>\n",
       "    </tr>\n",
       "    <tr>\n",
       "      <th>78253</th>\n",
       "      <td>NaN</td>\n",
       "      <td>A766098</td>\n",
       "      <td>Other</td>\n",
       "      <td>Bat Mix</td>\n",
       "      <td>Brown</td>\n",
       "      <td>2017-02-01T00:00:00</td>\n",
       "      <td>2018-02-01T18:08:00</td>\n",
       "      <td>2018-02-01T18:08:00</td>\n",
       "      <td>NaN</td>\n",
       "      <td>Rabies Risk</td>\n",
       "      <td>Euthanasia</td>\n",
       "      <td>Unknown</td>\n",
       "    </tr>\n",
       "  </tbody>\n",
       "</table>\n",
       "</div>"
      ],
      "text/plain": [
       "      age_upon_outcome animal_id animal_type                   breed  \\\n",
       "68246              NaN   A737705         Dog  Labrador Retriever Mix   \n",
       "76825              NaN   A764319         Dog            Pit Bull Mix   \n",
       "77976              NaN   A765547        Bird             Leghorn Mix   \n",
       "78081              NaN   A765899         Dog    Miniature Poodle Mix   \n",
       "78114              NaN   A765914         Cat  Domestic Shorthair Mix   \n",
       "78162              NaN   A765901         Dog             Maltese Mix   \n",
       "78208              NaN   A765960         Dog        Beagle/Catahoula   \n",
       "78253              NaN   A766098       Other                 Bat Mix   \n",
       "\n",
       "             color        date_of_birth             datetime  \\\n",
       "68246  Black/White  2013-11-02T00:00:00  2016-11-19T16:35:00   \n",
       "76825  Black/White  2016-12-27T00:00:00  2017-12-30T16:47:00   \n",
       "77976    White/Red  2017-01-22T00:00:00  2018-01-25T13:23:00   \n",
       "78081        Black  2011-01-29T00:00:00  2018-01-29T15:49:00   \n",
       "78114   Lynx Point  2017-01-29T00:00:00  2018-01-29T18:08:00   \n",
       "78162         Buff  2017-01-29T00:00:00  2018-01-31T08:14:00   \n",
       "78208    Tan/White  2010-02-01T00:00:00  2018-02-01T09:21:00   \n",
       "78253        Brown  2017-02-01T00:00:00  2018-02-01T18:08:00   \n",
       "\n",
       "                 monthyear    name outcome_subtype outcome_type  \\\n",
       "68246  2016-11-19T16:35:00  *Heddy             NaN          NaN   \n",
       "76825  2017-12-30T16:47:00   *Emma             NaN          NaN   \n",
       "77976  2018-01-25T13:23:00     NaN         Partner     Transfer   \n",
       "78081  2018-01-29T15:49:00     NaN       Suffering   Euthanasia   \n",
       "78114  2018-01-29T18:08:00     NaN       Suffering   Euthanasia   \n",
       "78162  2018-01-31T08:14:00     NaN         Partner     Transfer   \n",
       "78208  2018-02-01T09:21:00     NaN       Suffering   Euthanasia   \n",
       "78253  2018-02-01T18:08:00     NaN     Rabies Risk   Euthanasia   \n",
       "\n",
       "      sex_upon_outcome  \n",
       "68246              NaN  \n",
       "76825    Intact Female  \n",
       "77976    Intact Female  \n",
       "78081    Neutered Male  \n",
       "78114      Intact Male  \n",
       "78162      Intact Male  \n",
       "78208      Intact Male  \n",
       "78253          Unknown  "
      ]
     },
     "execution_count": 53,
     "metadata": {},
     "output_type": "execute_result"
    }
   ],
   "source": [
    "# List the rows in the dataset where the \"age_upon_outcome\" column consists of a null value\n",
    "df[df[\"age_upon_outcome\"].isna()]"
   ]
  },
  {
   "cell_type": "markdown",
   "metadata": {},
   "source": [
    "We can calculate these values by finding the difference between the \"date_of_birth\" and \"datetime\" columns: this will give us the number of days between the date of birth of the animal and the date the animal leaves the shelter. When we get these values, they will be formatted as a number of days, i.e. \"15 days\", so we will convert and enter them into the dataset in a similar fashion to the format they already appear, i.e. \"1 week\", \"1 month\" etc.\n",
    "\n",
    "We saw previously that all features in this dataset are type \"object\". To make calculations between these two features, we need to convert both of them into \"datetype\" format."
   ]
  },
  {
   "cell_type": "code",
   "execution_count": 54,
   "metadata": {
    "execution": {
     "iopub.execute_input": "2021-05-20T10:10:38.934576Z",
     "iopub.status.busy": "2021-05-20T10:10:38.934223Z",
     "iopub.status.idle": "2021-05-20T10:10:39.016861Z",
     "shell.execute_reply": "2021-05-20T10:10:39.015925Z",
     "shell.execute_reply.started": "2021-05-20T10:10:38.934544Z"
    }
   },
   "outputs": [],
   "source": [
    "# Converting \"datetime\" and \"date_of_birth\" features into datetime format\n",
    "df['datetime'] = pd.to_datetime(df['datetime'])\n",
    "df['date_of_birth'] = pd.to_datetime(df['date_of_birth'])"
   ]
  },
  {
   "cell_type": "code",
   "execution_count": 55,
   "metadata": {
    "execution": {
     "iopub.execute_input": "2021-05-20T10:10:39.019087Z",
     "iopub.status.busy": "2021-05-20T10:10:39.018605Z",
     "iopub.status.idle": "2021-05-20T10:10:39.030775Z",
     "shell.execute_reply": "2021-05-20T10:10:39.029561Z",
     "shell.execute_reply.started": "2021-05-20T10:10:39.019039Z"
    }
   },
   "outputs": [
    {
     "data": {
      "text/plain": [
       "0         15 days 16:04:00\n",
       "1        366 days 11:47:00\n",
       "2        429 days 14:20:00\n",
       "3       3300 days 15:50:00\n",
       "4        181 days 14:04:00\n",
       "               ...        \n",
       "78251     59 days 18:26:00\n",
       "78252   1129 days 18:06:00\n",
       "78253    365 days 18:08:00\n",
       "78254     80 days 18:32:00\n",
       "78255     80 days 18:44:00\n",
       "Length: 70855, dtype: timedelta64[ns]"
      ]
     },
     "execution_count": 55,
     "metadata": {},
     "output_type": "execute_result"
    }
   ],
   "source": [
    "# Check that our calculation works and gives us the number of days between the two dates\n",
    "df['datetime'] - df['date_of_birth']"
   ]
  },
  {
   "cell_type": "code",
   "execution_count": 56,
   "metadata": {
    "execution": {
     "iopub.execute_input": "2021-05-20T10:10:39.074148Z",
     "iopub.status.busy": "2021-05-20T10:10:39.073679Z",
     "iopub.status.idle": "2021-05-20T10:10:39.09057Z",
     "shell.execute_reply": "2021-05-20T10:10:39.089786Z",
     "shell.execute_reply.started": "2021-05-20T10:10:39.074116Z"
    }
   },
   "outputs": [
    {
     "data": {
      "text/plain": [
       "68246   1113 days 16:35:00\n",
       "76825    368 days 16:47:00\n",
       "77976    368 days 13:23:00\n",
       "78081   2557 days 15:49:00\n",
       "78114    365 days 18:08:00\n",
       "78162    367 days 08:14:00\n",
       "78208   2922 days 09:21:00\n",
       "78253    365 days 18:08:00\n",
       "dtype: timedelta64[ns]"
      ]
     },
     "execution_count": 56,
     "metadata": {},
     "output_type": "execute_result"
    }
   ],
   "source": [
    "# List the eight figures we need to impute\n",
    "ageuponoutcome_nanvalues = df[df[\"age_upon_outcome\"].isna()]\n",
    "ageuponoutcome_nanvalues['datetime'] - ageuponoutcome_nanvalues['date_of_birth']"
   ]
  },
  {
   "cell_type": "markdown",
   "metadata": {},
   "source": [
    "As there are only eight values, we can fill these in manually into our original dataframe."
   ]
  },
  {
   "cell_type": "code",
   "execution_count": 57,
   "metadata": {
    "execution": {
     "iopub.execute_input": "2021-05-20T10:10:39.206636Z",
     "iopub.status.busy": "2021-05-20T10:10:39.206082Z",
     "iopub.status.idle": "2021-05-20T10:10:39.315602Z",
     "shell.execute_reply": "2021-05-20T10:10:39.314878Z",
     "shell.execute_reply.started": "2021-05-20T10:10:39.206601Z"
    }
   },
   "outputs": [],
   "source": [
    "# Manually locating animals by animal_id in order to fill in the missing values\n",
    "df.loc[df[\"animal_id\"] == \"A737705\", 'age_upon_outcome'] = \"3 years\"\n",
    "df.loc[df[\"animal_id\"] == \"A764319\", 'age_upon_outcome'] = \"1 year\"\n",
    "df.loc[df[\"animal_id\"] == \"A765547\", 'age_upon_outcome'] = \"1 year\"\n",
    "df.loc[df[\"animal_id\"] == \"A765899\", 'age_upon_outcome'] = \"7 years\"\n",
    "df.loc[df[\"animal_id\"] == \"A765914\", 'age_upon_outcome'] = \"1 year\"\n",
    "df.loc[df[\"animal_id\"] == \"A765901\", 'age_upon_outcome'] = \"1 year\"\n",
    "df.loc[df[\"animal_id\"] == \"A765960\", 'age_upon_outcome'] = \"8 years\"\n",
    "df.loc[df[\"animal_id\"] == \"A766098\", 'age_upon_outcome'] = \"1 year\""
   ]
  },
  {
   "cell_type": "code",
   "execution_count": 58,
   "metadata": {
    "execution": {
     "iopub.execute_input": "2021-05-20T10:10:39.317142Z",
     "iopub.status.busy": "2021-05-20T10:10:39.316735Z",
     "iopub.status.idle": "2021-05-20T10:10:39.346336Z",
     "shell.execute_reply": "2021-05-20T10:10:39.345421Z",
     "shell.execute_reply.started": "2021-05-20T10:10:39.317112Z"
    }
   },
   "outputs": [
    {
     "data": {
      "text/html": [
       "<div>\n",
       "<style scoped>\n",
       "    .dataframe tbody tr th:only-of-type {\n",
       "        vertical-align: middle;\n",
       "    }\n",
       "\n",
       "    .dataframe tbody tr th {\n",
       "        vertical-align: top;\n",
       "    }\n",
       "\n",
       "    .dataframe thead th {\n",
       "        text-align: right;\n",
       "    }\n",
       "</style>\n",
       "<table border=\"1\" class=\"dataframe\">\n",
       "  <thead>\n",
       "    <tr style=\"text-align: right;\">\n",
       "      <th></th>\n",
       "      <th>age_upon_outcome</th>\n",
       "      <th>animal_id</th>\n",
       "      <th>animal_type</th>\n",
       "      <th>breed</th>\n",
       "      <th>color</th>\n",
       "      <th>date_of_birth</th>\n",
       "      <th>datetime</th>\n",
       "      <th>monthyear</th>\n",
       "      <th>name</th>\n",
       "      <th>outcome_subtype</th>\n",
       "      <th>outcome_type</th>\n",
       "      <th>sex_upon_outcome</th>\n",
       "    </tr>\n",
       "  </thead>\n",
       "  <tbody>\n",
       "    <tr>\n",
       "      <th>76825</th>\n",
       "      <td>1 year</td>\n",
       "      <td>A764319</td>\n",
       "      <td>Dog</td>\n",
       "      <td>Pit Bull Mix</td>\n",
       "      <td>Black/White</td>\n",
       "      <td>2016-12-27</td>\n",
       "      <td>2017-12-30 16:47:00</td>\n",
       "      <td>2017-12-30T16:47:00</td>\n",
       "      <td>*Emma</td>\n",
       "      <td>NaN</td>\n",
       "      <td>NaN</td>\n",
       "      <td>Intact Female</td>\n",
       "    </tr>\n",
       "  </tbody>\n",
       "</table>\n",
       "</div>"
      ],
      "text/plain": [
       "      age_upon_outcome animal_id animal_type         breed        color  \\\n",
       "76825           1 year   A764319         Dog  Pit Bull Mix  Black/White   \n",
       "\n",
       "      date_of_birth            datetime            monthyear   name  \\\n",
       "76825    2016-12-27 2017-12-30 16:47:00  2017-12-30T16:47:00  *Emma   \n",
       "\n",
       "      outcome_subtype outcome_type sex_upon_outcome  \n",
       "76825             NaN          NaN    Intact Female  "
      ]
     },
     "execution_count": 58,
     "metadata": {},
     "output_type": "execute_result"
    }
   ],
   "source": [
    "df.loc[df[\"animal_id\"] == \"A764319\"]"
   ]
  },
  {
   "cell_type": "code",
   "execution_count": 59,
   "metadata": {
    "execution": {
     "iopub.execute_input": "2021-05-20T10:10:39.389866Z",
     "iopub.status.busy": "2021-05-20T10:10:39.389533Z",
     "iopub.status.idle": "2021-05-20T10:10:39.46515Z",
     "shell.execute_reply": "2021-05-20T10:10:39.464096Z",
     "shell.execute_reply.started": "2021-05-20T10:10:39.389838Z"
    }
   },
   "outputs": [
    {
     "data": {
      "text/plain": [
       "age_upon_outcome        0\n",
       "animal_id               0\n",
       "animal_type             0\n",
       "breed                   0\n",
       "color                   0\n",
       "date_of_birth           0\n",
       "datetime                0\n",
       "monthyear               0\n",
       "name                23653\n",
       "outcome_subtype     36369\n",
       "outcome_type            8\n",
       "sex_upon_outcome        2\n",
       "dtype: int64"
      ]
     },
     "execution_count": 59,
     "metadata": {},
     "output_type": "execute_result"
    }
   ],
   "source": [
    "# Check that our null values for age_upon_outcome are all filled\n",
    "# Also identify other columns where we need to address null values\n",
    "df.isnull().sum()"
   ]
  },
  {
   "cell_type": "code",
   "execution_count": 60,
   "metadata": {
    "execution": {
     "iopub.execute_input": "2021-05-20T10:10:39.533865Z",
     "iopub.status.busy": "2021-05-20T10:10:39.533473Z",
     "iopub.status.idle": "2021-05-20T10:10:39.552552Z",
     "shell.execute_reply": "2021-05-20T10:10:39.55191Z",
     "shell.execute_reply.started": "2021-05-20T10:10:39.533804Z"
    }
   },
   "outputs": [
    {
     "data": {
      "text/plain": [
       "14574"
      ]
     },
     "execution_count": 60,
     "metadata": {},
     "output_type": "execute_result"
    }
   ],
   "source": [
    "# Identify the number of unique names in the dataset\n",
    "df[\"name\"].nunique()"
   ]
  },
  {
   "cell_type": "markdown",
   "metadata": {},
   "source": [
    "23881 names are missing. This column can be deleted as the vast majority of these are unique (14574) and tell us nothing about the animal condition.\n",
    "Over half of the outcome_subtype are missing, so this column will be deleted.\n",
    "\n",
    "The outcome_type and sex_upon_outcome columns have figures missing for 12 and 2 rows respectively. These will all be changed to the value \"Unknown\", and then the rows for which the outcome_type feature are \"Unknown\" will be deleted.\n"
   ]
  },
  {
   "cell_type": "code",
   "execution_count": 61,
   "metadata": {
    "execution": {
     "iopub.execute_input": "2021-05-20T10:10:39.804954Z",
     "iopub.status.busy": "2021-05-20T10:10:39.804586Z",
     "iopub.status.idle": "2021-05-20T10:10:39.823906Z",
     "shell.execute_reply": "2021-05-20T10:10:39.822966Z",
     "shell.execute_reply.started": "2021-05-20T10:10:39.804912Z"
    }
   },
   "outputs": [],
   "source": [
    "# Drop name and outcome_subtype columns\n",
    "df = df.drop(columns=[\"name\",\"outcome_subtype\"])"
   ]
  },
  {
   "cell_type": "code",
   "execution_count": 62,
   "metadata": {
    "execution": {
     "iopub.execute_input": "2021-05-20T10:10:39.727077Z",
     "iopub.status.busy": "2021-05-20T10:10:39.726734Z",
     "iopub.status.idle": "2021-05-20T10:10:39.80305Z",
     "shell.execute_reply": "2021-05-20T10:10:39.802219Z",
     "shell.execute_reply.started": "2021-05-20T10:10:39.727046Z"
    }
   },
   "outputs": [],
   "source": [
    "# Change NaN values in outcome_type and sex_upon_outcome columns to string \"Unknown\"\n",
    "values = {'sex_upon_outcome': \"Unknown\", 'outcome_type': \"Unknown\"}\n",
    "df = df.fillna(value=values)\n",
    "\n",
    "# Remove values where outcome_type is \"Unknown\"\n",
    "df = df[~df[\"outcome_type\"].str.contains(\"Unknown\")]"
   ]
  },
  {
   "cell_type": "code",
   "execution_count": 63,
   "metadata": {
    "execution": {
     "iopub.execute_input": "2021-05-20T10:10:39.869458Z",
     "iopub.status.busy": "2021-05-20T10:10:39.869109Z",
     "iopub.status.idle": "2021-05-20T10:10:39.887697Z",
     "shell.execute_reply": "2021-05-20T10:10:39.886627Z",
     "shell.execute_reply.started": "2021-05-20T10:10:39.869427Z"
    }
   },
   "outputs": [
    {
     "data": {
      "text/html": [
       "<div>\n",
       "<style scoped>\n",
       "    .dataframe tbody tr th:only-of-type {\n",
       "        vertical-align: middle;\n",
       "    }\n",
       "\n",
       "    .dataframe tbody tr th {\n",
       "        vertical-align: top;\n",
       "    }\n",
       "\n",
       "    .dataframe thead th {\n",
       "        text-align: right;\n",
       "    }\n",
       "</style>\n",
       "<table border=\"1\" class=\"dataframe\">\n",
       "  <thead>\n",
       "    <tr style=\"text-align: right;\">\n",
       "      <th></th>\n",
       "      <th>age_upon_outcome</th>\n",
       "      <th>animal_id</th>\n",
       "      <th>animal_type</th>\n",
       "      <th>breed</th>\n",
       "      <th>color</th>\n",
       "      <th>date_of_birth</th>\n",
       "      <th>datetime</th>\n",
       "      <th>monthyear</th>\n",
       "      <th>outcome_type</th>\n",
       "      <th>sex_upon_outcome</th>\n",
       "    </tr>\n",
       "  </thead>\n",
       "  <tbody>\n",
       "    <tr>\n",
       "      <th>0</th>\n",
       "      <td>2 weeks</td>\n",
       "      <td>A684346</td>\n",
       "      <td>Cat</td>\n",
       "      <td>Domestic Shorthair Mix</td>\n",
       "      <td>Orange Tabby</td>\n",
       "      <td>2014-07-07</td>\n",
       "      <td>2014-07-22 16:04:00</td>\n",
       "      <td>2014-07-22T16:04:00</td>\n",
       "      <td>Transfer</td>\n",
       "      <td>Intact Male</td>\n",
       "    </tr>\n",
       "    <tr>\n",
       "      <th>1</th>\n",
       "      <td>1 year</td>\n",
       "      <td>A666430</td>\n",
       "      <td>Dog</td>\n",
       "      <td>Beagle Mix</td>\n",
       "      <td>White/Brown</td>\n",
       "      <td>2012-11-06</td>\n",
       "      <td>2013-11-07 11:47:00</td>\n",
       "      <td>2013-11-07T11:47:00</td>\n",
       "      <td>Transfer</td>\n",
       "      <td>Spayed Female</td>\n",
       "    </tr>\n",
       "    <tr>\n",
       "      <th>2</th>\n",
       "      <td>1 year</td>\n",
       "      <td>A675708</td>\n",
       "      <td>Dog</td>\n",
       "      <td>Pit Bull</td>\n",
       "      <td>Blue/White</td>\n",
       "      <td>2013-03-31</td>\n",
       "      <td>2014-06-03 14:20:00</td>\n",
       "      <td>2014-06-03T14:20:00</td>\n",
       "      <td>Adoption</td>\n",
       "      <td>Neutered Male</td>\n",
       "    </tr>\n",
       "    <tr>\n",
       "      <th>3</th>\n",
       "      <td>9 years</td>\n",
       "      <td>A680386</td>\n",
       "      <td>Dog</td>\n",
       "      <td>Miniature Schnauzer Mix</td>\n",
       "      <td>White</td>\n",
       "      <td>2005-06-02</td>\n",
       "      <td>2014-06-15 15:50:00</td>\n",
       "      <td>2014-06-15T15:50:00</td>\n",
       "      <td>Transfer</td>\n",
       "      <td>Neutered Male</td>\n",
       "    </tr>\n",
       "    <tr>\n",
       "      <th>4</th>\n",
       "      <td>5 months</td>\n",
       "      <td>A683115</td>\n",
       "      <td>Other</td>\n",
       "      <td>Bat Mix</td>\n",
       "      <td>Brown</td>\n",
       "      <td>2014-01-07</td>\n",
       "      <td>2014-07-07 14:04:00</td>\n",
       "      <td>2014-07-07T14:04:00</td>\n",
       "      <td>Euthanasia</td>\n",
       "      <td>Unknown</td>\n",
       "    </tr>\n",
       "  </tbody>\n",
       "</table>\n",
       "</div>"
      ],
      "text/plain": [
       "  age_upon_outcome animal_id animal_type                    breed  \\\n",
       "0          2 weeks   A684346         Cat   Domestic Shorthair Mix   \n",
       "1           1 year   A666430         Dog               Beagle Mix   \n",
       "2           1 year   A675708         Dog                 Pit Bull   \n",
       "3          9 years   A680386         Dog  Miniature Schnauzer Mix   \n",
       "4         5 months   A683115       Other                  Bat Mix   \n",
       "\n",
       "          color date_of_birth            datetime            monthyear  \\\n",
       "0  Orange Tabby    2014-07-07 2014-07-22 16:04:00  2014-07-22T16:04:00   \n",
       "1   White/Brown    2012-11-06 2013-11-07 11:47:00  2013-11-07T11:47:00   \n",
       "2    Blue/White    2013-03-31 2014-06-03 14:20:00  2014-06-03T14:20:00   \n",
       "3         White    2005-06-02 2014-06-15 15:50:00  2014-06-15T15:50:00   \n",
       "4         Brown    2014-01-07 2014-07-07 14:04:00  2014-07-07T14:04:00   \n",
       "\n",
       "  outcome_type sex_upon_outcome  \n",
       "0     Transfer      Intact Male  \n",
       "1     Transfer    Spayed Female  \n",
       "2     Adoption    Neutered Male  \n",
       "3     Transfer    Neutered Male  \n",
       "4   Euthanasia          Unknown  "
      ]
     },
     "execution_count": 63,
     "metadata": {},
     "output_type": "execute_result"
    }
   ],
   "source": [
    "# Review our changes\n",
    "df.head(5)"
   ]
  },
  {
   "cell_type": "markdown",
   "metadata": {},
   "source": [
    "Lets have another look at our null values to see if we have any more features to address:"
   ]
  },
  {
   "cell_type": "code",
   "execution_count": 64,
   "metadata": {
    "execution": {
     "iopub.execute_input": "2021-05-20T10:10:39.906855Z",
     "iopub.status.busy": "2021-05-20T10:10:39.906489Z",
     "iopub.status.idle": "2021-05-20T10:10:39.973375Z",
     "shell.execute_reply": "2021-05-20T10:10:39.972288Z",
     "shell.execute_reply.started": "2021-05-20T10:10:39.906808Z"
    }
   },
   "outputs": [
    {
     "data": {
      "text/plain": [
       "age_upon_outcome    0\n",
       "animal_id           0\n",
       "animal_type         0\n",
       "breed               0\n",
       "color               0\n",
       "date_of_birth       0\n",
       "datetime            0\n",
       "monthyear           0\n",
       "outcome_type        0\n",
       "sex_upon_outcome    0\n",
       "dtype: int64"
      ]
     },
     "execution_count": 64,
     "metadata": {},
     "output_type": "execute_result"
    }
   ],
   "source": [
    "df.isnull().sum()"
   ]
  },
  {
   "cell_type": "markdown",
   "metadata": {},
   "source": [
    "This amount of cleaning is the bare minimum at which we can train a ML model. We will save a copy of our dataframe to a new .csv file as a first draft, but we will continue cleaning before we build our model as there is more that can be done."
   ]
  },
  {
   "cell_type": "code",
   "execution_count": 65,
   "metadata": {
    "execution": {
     "iopub.execute_input": "2021-05-20T10:10:40.065012Z",
     "iopub.status.busy": "2021-05-20T10:10:40.064662Z",
     "iopub.status.idle": "2021-05-20T10:10:40.094517Z",
     "shell.execute_reply": "2021-05-20T10:10:40.092677Z",
     "shell.execute_reply.started": "2021-05-20T10:10:40.064978Z"
    }
   },
   "outputs": [],
   "source": [
    "df.to_csv(\"aac_shelter_outcomes_firstdraft.csv\", index=False)"
   ]
  },
  {
   "cell_type": "code",
   "execution_count": 66,
   "metadata": {},
   "outputs": [],
   "source": [
    "df = pd.read_csv(\"aac_shelter_outcomes_firstdraft.csv\")"
   ]
  },
  {
   "cell_type": "code",
   "execution_count": 67,
   "metadata": {},
   "outputs": [
    {
     "data": {
      "text/html": [
       "<div>\n",
       "<style scoped>\n",
       "    .dataframe tbody tr th:only-of-type {\n",
       "        vertical-align: middle;\n",
       "    }\n",
       "\n",
       "    .dataframe tbody tr th {\n",
       "        vertical-align: top;\n",
       "    }\n",
       "\n",
       "    .dataframe thead th {\n",
       "        text-align: right;\n",
       "    }\n",
       "</style>\n",
       "<table border=\"1\" class=\"dataframe\">\n",
       "  <thead>\n",
       "    <tr style=\"text-align: right;\">\n",
       "      <th></th>\n",
       "      <th>age_upon_outcome</th>\n",
       "      <th>animal_id</th>\n",
       "      <th>animal_type</th>\n",
       "      <th>breed</th>\n",
       "      <th>color</th>\n",
       "      <th>date_of_birth</th>\n",
       "      <th>datetime</th>\n",
       "      <th>monthyear</th>\n",
       "      <th>outcome_type</th>\n",
       "      <th>sex_upon_outcome</th>\n",
       "    </tr>\n",
       "  </thead>\n",
       "  <tbody>\n",
       "    <tr>\n",
       "      <th>0</th>\n",
       "      <td>2 weeks</td>\n",
       "      <td>A684346</td>\n",
       "      <td>Cat</td>\n",
       "      <td>Domestic Shorthair Mix</td>\n",
       "      <td>Orange Tabby</td>\n",
       "      <td>2014-07-07 00:00:00</td>\n",
       "      <td>2014-07-22 16:04:00</td>\n",
       "      <td>2014-07-22T16:04:00</td>\n",
       "      <td>Transfer</td>\n",
       "      <td>Intact Male</td>\n",
       "    </tr>\n",
       "    <tr>\n",
       "      <th>1</th>\n",
       "      <td>1 year</td>\n",
       "      <td>A666430</td>\n",
       "      <td>Dog</td>\n",
       "      <td>Beagle Mix</td>\n",
       "      <td>White/Brown</td>\n",
       "      <td>2012-11-06 00:00:00</td>\n",
       "      <td>2013-11-07 11:47:00</td>\n",
       "      <td>2013-11-07T11:47:00</td>\n",
       "      <td>Transfer</td>\n",
       "      <td>Spayed Female</td>\n",
       "    </tr>\n",
       "    <tr>\n",
       "      <th>2</th>\n",
       "      <td>1 year</td>\n",
       "      <td>A675708</td>\n",
       "      <td>Dog</td>\n",
       "      <td>Pit Bull</td>\n",
       "      <td>Blue/White</td>\n",
       "      <td>2013-03-31 00:00:00</td>\n",
       "      <td>2014-06-03 14:20:00</td>\n",
       "      <td>2014-06-03T14:20:00</td>\n",
       "      <td>Adoption</td>\n",
       "      <td>Neutered Male</td>\n",
       "    </tr>\n",
       "    <tr>\n",
       "      <th>3</th>\n",
       "      <td>9 years</td>\n",
       "      <td>A680386</td>\n",
       "      <td>Dog</td>\n",
       "      <td>Miniature Schnauzer Mix</td>\n",
       "      <td>White</td>\n",
       "      <td>2005-06-02 00:00:00</td>\n",
       "      <td>2014-06-15 15:50:00</td>\n",
       "      <td>2014-06-15T15:50:00</td>\n",
       "      <td>Transfer</td>\n",
       "      <td>Neutered Male</td>\n",
       "    </tr>\n",
       "    <tr>\n",
       "      <th>4</th>\n",
       "      <td>5 months</td>\n",
       "      <td>A683115</td>\n",
       "      <td>Other</td>\n",
       "      <td>Bat Mix</td>\n",
       "      <td>Brown</td>\n",
       "      <td>2014-01-07 00:00:00</td>\n",
       "      <td>2014-07-07 14:04:00</td>\n",
       "      <td>2014-07-07T14:04:00</td>\n",
       "      <td>Euthanasia</td>\n",
       "      <td>Unknown</td>\n",
       "    </tr>\n",
       "    <tr>\n",
       "      <th>...</th>\n",
       "      <td>...</td>\n",
       "      <td>...</td>\n",
       "      <td>...</td>\n",
       "      <td>...</td>\n",
       "      <td>...</td>\n",
       "      <td>...</td>\n",
       "      <td>...</td>\n",
       "      <td>...</td>\n",
       "      <td>...</td>\n",
       "      <td>...</td>\n",
       "    </tr>\n",
       "    <tr>\n",
       "      <th>70842</th>\n",
       "      <td>1 month</td>\n",
       "      <td>A764894</td>\n",
       "      <td>Dog</td>\n",
       "      <td>Golden Retriever/Labrador Retriever</td>\n",
       "      <td>Brown/White</td>\n",
       "      <td>2017-12-04 00:00:00</td>\n",
       "      <td>2018-02-01 18:26:00</td>\n",
       "      <td>2018-02-01T18:26:00</td>\n",
       "      <td>Adoption</td>\n",
       "      <td>Spayed Female</td>\n",
       "    </tr>\n",
       "    <tr>\n",
       "      <th>70843</th>\n",
       "      <td>3 years</td>\n",
       "      <td>A764468</td>\n",
       "      <td>Dog</td>\n",
       "      <td>Mastiff Mix</td>\n",
       "      <td>Blue/White</td>\n",
       "      <td>2014-12-30 00:00:00</td>\n",
       "      <td>2018-02-01 18:06:00</td>\n",
       "      <td>2018-02-01T18:06:00</td>\n",
       "      <td>Adoption</td>\n",
       "      <td>Neutered Male</td>\n",
       "    </tr>\n",
       "    <tr>\n",
       "      <th>70844</th>\n",
       "      <td>1 year</td>\n",
       "      <td>A766098</td>\n",
       "      <td>Other</td>\n",
       "      <td>Bat Mix</td>\n",
       "      <td>Brown</td>\n",
       "      <td>2017-02-01 00:00:00</td>\n",
       "      <td>2018-02-01 18:08:00</td>\n",
       "      <td>2018-02-01T18:08:00</td>\n",
       "      <td>Euthanasia</td>\n",
       "      <td>Unknown</td>\n",
       "    </tr>\n",
       "    <tr>\n",
       "      <th>70845</th>\n",
       "      <td>2 months</td>\n",
       "      <td>A765858</td>\n",
       "      <td>Dog</td>\n",
       "      <td>Standard Schnauzer</td>\n",
       "      <td>Red</td>\n",
       "      <td>2017-11-13 00:00:00</td>\n",
       "      <td>2018-02-01 18:32:00</td>\n",
       "      <td>2018-02-01T18:32:00</td>\n",
       "      <td>Adoption</td>\n",
       "      <td>Spayed Female</td>\n",
       "    </tr>\n",
       "    <tr>\n",
       "      <th>70846</th>\n",
       "      <td>2 months</td>\n",
       "      <td>A765857</td>\n",
       "      <td>Dog</td>\n",
       "      <td>Labrador Retriever Mix</td>\n",
       "      <td>White/Brown</td>\n",
       "      <td>2017-11-13 00:00:00</td>\n",
       "      <td>2018-02-01 18:44:00</td>\n",
       "      <td>2018-02-01T18:44:00</td>\n",
       "      <td>Adoption</td>\n",
       "      <td>Neutered Male</td>\n",
       "    </tr>\n",
       "  </tbody>\n",
       "</table>\n",
       "<p>70847 rows × 10 columns</p>\n",
       "</div>"
      ],
      "text/plain": [
       "      age_upon_outcome animal_id animal_type  \\\n",
       "0              2 weeks   A684346         Cat   \n",
       "1               1 year   A666430         Dog   \n",
       "2               1 year   A675708         Dog   \n",
       "3              9 years   A680386         Dog   \n",
       "4             5 months   A683115       Other   \n",
       "...                ...       ...         ...   \n",
       "70842          1 month   A764894         Dog   \n",
       "70843          3 years   A764468         Dog   \n",
       "70844           1 year   A766098       Other   \n",
       "70845         2 months   A765858         Dog   \n",
       "70846         2 months   A765857         Dog   \n",
       "\n",
       "                                     breed         color        date_of_birth  \\\n",
       "0                   Domestic Shorthair Mix  Orange Tabby  2014-07-07 00:00:00   \n",
       "1                               Beagle Mix   White/Brown  2012-11-06 00:00:00   \n",
       "2                                 Pit Bull    Blue/White  2013-03-31 00:00:00   \n",
       "3                  Miniature Schnauzer Mix         White  2005-06-02 00:00:00   \n",
       "4                                  Bat Mix         Brown  2014-01-07 00:00:00   \n",
       "...                                    ...           ...                  ...   \n",
       "70842  Golden Retriever/Labrador Retriever   Brown/White  2017-12-04 00:00:00   \n",
       "70843                          Mastiff Mix    Blue/White  2014-12-30 00:00:00   \n",
       "70844                              Bat Mix         Brown  2017-02-01 00:00:00   \n",
       "70845                   Standard Schnauzer           Red  2017-11-13 00:00:00   \n",
       "70846               Labrador Retriever Mix   White/Brown  2017-11-13 00:00:00   \n",
       "\n",
       "                  datetime            monthyear outcome_type sex_upon_outcome  \n",
       "0      2014-07-22 16:04:00  2014-07-22T16:04:00     Transfer      Intact Male  \n",
       "1      2013-11-07 11:47:00  2013-11-07T11:47:00     Transfer    Spayed Female  \n",
       "2      2014-06-03 14:20:00  2014-06-03T14:20:00     Adoption    Neutered Male  \n",
       "3      2014-06-15 15:50:00  2014-06-15T15:50:00     Transfer    Neutered Male  \n",
       "4      2014-07-07 14:04:00  2014-07-07T14:04:00   Euthanasia          Unknown  \n",
       "...                    ...                  ...          ...              ...  \n",
       "70842  2018-02-01 18:26:00  2018-02-01T18:26:00     Adoption    Spayed Female  \n",
       "70843  2018-02-01 18:06:00  2018-02-01T18:06:00     Adoption    Neutered Male  \n",
       "70844  2018-02-01 18:08:00  2018-02-01T18:08:00   Euthanasia          Unknown  \n",
       "70845  2018-02-01 18:32:00  2018-02-01T18:32:00     Adoption    Spayed Female  \n",
       "70846  2018-02-01 18:44:00  2018-02-01T18:44:00     Adoption    Neutered Male  \n",
       "\n",
       "[70847 rows x 10 columns]"
      ]
     },
     "execution_count": 67,
     "metadata": {},
     "output_type": "execute_result"
    }
   ],
   "source": [
    "df"
   ]
  },
  {
   "cell_type": "markdown",
   "metadata": {},
   "source": [
    "There are a few more features we can look at which we can make improvements to, and possibly new features to be created from those that already exist.\n",
    "\n",
    "We will start with the age_upon_outcome feature. Earlier, we calculated the age values that were missing for 8 rows in the dataset; we entered these results manually as strings in the same format as they were initially in the raw dataset. As none of the datetime columns contain NaN values, we can make these calculations for every row in the dataset, and replace the values that were in the dataset originally. This means two things:\n",
    "- The newly calculated data should be more accurate in terms of defining an animal's age, as it will now be calculated as a specific number of days rather than fluctuating terms like weeks, months, years\n",
    "- This means the new data can be cast as type INT"
   ]
  },
  {
   "cell_type": "code",
   "execution_count": 68,
   "metadata": {
    "execution": {
     "iopub.execute_input": "2021-05-20T10:10:40.301941Z",
     "iopub.status.busy": "2021-05-20T10:10:40.301578Z",
     "iopub.status.idle": "2021-05-20T10:10:40.312204Z",
     "shell.execute_reply": "2021-05-20T10:10:40.311237Z",
     "shell.execute_reply.started": "2021-05-20T10:10:40.301905Z"
    }
   },
   "outputs": [
    {
     "data": {
      "text/plain": [
       "0         15 days 16:04:00\n",
       "1        366 days 11:47:00\n",
       "2        429 days 14:20:00\n",
       "3       3300 days 15:50:00\n",
       "4        181 days 14:04:00\n",
       "               ...        \n",
       "70842     59 days 18:26:00\n",
       "70843   1129 days 18:06:00\n",
       "70844    365 days 18:08:00\n",
       "70845     80 days 18:32:00\n",
       "70846     80 days 18:44:00\n",
       "Length: 70847, dtype: timedelta64[ns]"
      ]
     },
     "execution_count": 68,
     "metadata": {},
     "output_type": "execute_result"
    }
   ],
   "source": [
    "# As done previously, we have to convert our 'datetime' and 'date_of_birth' features\n",
    "# into datetime format before making our calculations\n",
    "df['datetime'] = pd.to_datetime(df['datetime'])\n",
    "df['date_of_birth'] = pd.to_datetime(df['date_of_birth'])\n",
    "df['datetime'] - df['date_of_birth']"
   ]
  },
  {
   "cell_type": "markdown",
   "metadata": {},
   "source": [
    "We will save the above in the place of the values of the age_upon_outcome feature, remove the text after the integer value we need, and then convert the column to type INT."
   ]
  },
  {
   "cell_type": "code",
   "execution_count": 69,
   "metadata": {
    "execution": {
     "iopub.execute_input": "2021-05-20T10:10:40.400564Z",
     "iopub.status.busy": "2021-05-20T10:10:40.400202Z",
     "iopub.status.idle": "2021-05-20T10:10:40.410781Z",
     "shell.execute_reply": "2021-05-20T10:10:40.409546Z",
     "shell.execute_reply.started": "2021-05-20T10:10:40.400533Z"
    }
   },
   "outputs": [],
   "source": [
    "# Overwrite the original values in age_upon_outcome with our new values\n",
    "df['age_upon_outcome'] = df['datetime'] - df['date_of_birth']\n",
    "\n",
    "# Change the age_upon_outcome datatype back to object, \n",
    "# then convert it into a string and strip the last 14 characters\n",
    "df['age_upon_outcome'] = df['age_upon_outcome'].astype(object)\n",
    "df['age_upon_outcome'] = df['age_upon_outcome'].astype(str).str[:-14]"
   ]
  },
  {
   "cell_type": "code",
   "execution_count": 70,
   "metadata": {
    "execution": {
     "iopub.execute_input": "2021-05-20T10:10:41.846851Z",
     "iopub.status.busy": "2021-05-20T10:10:41.846534Z",
     "iopub.status.idle": "2021-05-20T10:10:41.873401Z",
     "shell.execute_reply": "2021-05-20T10:10:41.872415Z",
     "shell.execute_reply.started": "2021-05-20T10:10:41.84682Z"
    }
   },
   "outputs": [
    {
     "data": {
      "text/html": [
       "<div>\n",
       "<style scoped>\n",
       "    .dataframe tbody tr th:only-of-type {\n",
       "        vertical-align: middle;\n",
       "    }\n",
       "\n",
       "    .dataframe tbody tr th {\n",
       "        vertical-align: top;\n",
       "    }\n",
       "\n",
       "    .dataframe thead th {\n",
       "        text-align: right;\n",
       "    }\n",
       "</style>\n",
       "<table border=\"1\" class=\"dataframe\">\n",
       "  <thead>\n",
       "    <tr style=\"text-align: right;\">\n",
       "      <th></th>\n",
       "      <th>age_upon_outcome</th>\n",
       "      <th>animal_id</th>\n",
       "      <th>animal_type</th>\n",
       "      <th>breed</th>\n",
       "      <th>color</th>\n",
       "      <th>date_of_birth</th>\n",
       "      <th>datetime</th>\n",
       "      <th>monthyear</th>\n",
       "      <th>outcome_type</th>\n",
       "      <th>sex_upon_outcome</th>\n",
       "    </tr>\n",
       "  </thead>\n",
       "  <tbody>\n",
       "    <tr>\n",
       "      <th>0</th>\n",
       "      <td>15</td>\n",
       "      <td>A684346</td>\n",
       "      <td>Cat</td>\n",
       "      <td>Domestic Shorthair Mix</td>\n",
       "      <td>Orange Tabby</td>\n",
       "      <td>2014-07-07</td>\n",
       "      <td>2014-07-22 16:04:00</td>\n",
       "      <td>2014-07-22T16:04:00</td>\n",
       "      <td>Transfer</td>\n",
       "      <td>Intact Male</td>\n",
       "    </tr>\n",
       "    <tr>\n",
       "      <th>1</th>\n",
       "      <td>366</td>\n",
       "      <td>A666430</td>\n",
       "      <td>Dog</td>\n",
       "      <td>Beagle Mix</td>\n",
       "      <td>White/Brown</td>\n",
       "      <td>2012-11-06</td>\n",
       "      <td>2013-11-07 11:47:00</td>\n",
       "      <td>2013-11-07T11:47:00</td>\n",
       "      <td>Transfer</td>\n",
       "      <td>Spayed Female</td>\n",
       "    </tr>\n",
       "    <tr>\n",
       "      <th>2</th>\n",
       "      <td>429</td>\n",
       "      <td>A675708</td>\n",
       "      <td>Dog</td>\n",
       "      <td>Pit Bull</td>\n",
       "      <td>Blue/White</td>\n",
       "      <td>2013-03-31</td>\n",
       "      <td>2014-06-03 14:20:00</td>\n",
       "      <td>2014-06-03T14:20:00</td>\n",
       "      <td>Adoption</td>\n",
       "      <td>Neutered Male</td>\n",
       "    </tr>\n",
       "    <tr>\n",
       "      <th>3</th>\n",
       "      <td>3300</td>\n",
       "      <td>A680386</td>\n",
       "      <td>Dog</td>\n",
       "      <td>Miniature Schnauzer Mix</td>\n",
       "      <td>White</td>\n",
       "      <td>2005-06-02</td>\n",
       "      <td>2014-06-15 15:50:00</td>\n",
       "      <td>2014-06-15T15:50:00</td>\n",
       "      <td>Transfer</td>\n",
       "      <td>Neutered Male</td>\n",
       "    </tr>\n",
       "    <tr>\n",
       "      <th>4</th>\n",
       "      <td>181</td>\n",
       "      <td>A683115</td>\n",
       "      <td>Other</td>\n",
       "      <td>Bat Mix</td>\n",
       "      <td>Brown</td>\n",
       "      <td>2014-01-07</td>\n",
       "      <td>2014-07-07 14:04:00</td>\n",
       "      <td>2014-07-07T14:04:00</td>\n",
       "      <td>Euthanasia</td>\n",
       "      <td>Unknown</td>\n",
       "    </tr>\n",
       "  </tbody>\n",
       "</table>\n",
       "</div>"
      ],
      "text/plain": [
       "  age_upon_outcome animal_id animal_type                    breed  \\\n",
       "0               15   A684346         Cat   Domestic Shorthair Mix   \n",
       "1              366   A666430         Dog               Beagle Mix   \n",
       "2              429   A675708         Dog                 Pit Bull   \n",
       "3             3300   A680386         Dog  Miniature Schnauzer Mix   \n",
       "4              181   A683115       Other                  Bat Mix   \n",
       "\n",
       "          color date_of_birth            datetime            monthyear  \\\n",
       "0  Orange Tabby    2014-07-07 2014-07-22 16:04:00  2014-07-22T16:04:00   \n",
       "1   White/Brown    2012-11-06 2013-11-07 11:47:00  2013-11-07T11:47:00   \n",
       "2    Blue/White    2013-03-31 2014-06-03 14:20:00  2014-06-03T14:20:00   \n",
       "3         White    2005-06-02 2014-06-15 15:50:00  2014-06-15T15:50:00   \n",
       "4         Brown    2014-01-07 2014-07-07 14:04:00  2014-07-07T14:04:00   \n",
       "\n",
       "  outcome_type sex_upon_outcome  \n",
       "0     Transfer      Intact Male  \n",
       "1     Transfer    Spayed Female  \n",
       "2     Adoption    Neutered Male  \n",
       "3     Transfer    Neutered Male  \n",
       "4   Euthanasia          Unknown  "
      ]
     },
     "execution_count": 70,
     "metadata": {},
     "output_type": "execute_result"
    }
   ],
   "source": [
    "# Look at the first few rows of the dataset to review the changes made\n",
    "df.head()"
   ]
  },
  {
   "cell_type": "markdown",
   "metadata": {},
   "source": [
    "We need to ensure that all values have been replaced succesfully and there are no null values - we should also ensure none of the resulting values are negative"
   ]
  },
  {
   "cell_type": "code",
   "execution_count": 71,
   "metadata": {
    "execution": {
     "iopub.execute_input": "2021-05-20T10:10:41.875334Z",
     "iopub.status.busy": "2021-05-20T10:10:41.875056Z",
     "iopub.status.idle": "2021-05-20T10:10:41.898566Z",
     "shell.execute_reply": "2021-05-20T10:10:41.897776Z",
     "shell.execute_reply.started": "2021-05-20T10:10:41.875305Z"
    }
   },
   "outputs": [
    {
     "data": {
      "text/plain": [
       "0"
      ]
     },
     "execution_count": 71,
     "metadata": {},
     "output_type": "execute_result"
    }
   ],
   "source": [
    "# Retrieve sum of null values in age_upon_outcome column\n",
    "df[\"age_upon_outcome\"].isna().sum()"
   ]
  },
  {
   "cell_type": "code",
   "execution_count": 72,
   "metadata": {
    "execution": {
     "iopub.execute_input": "2021-05-20T10:10:41.927556Z",
     "iopub.status.busy": "2021-05-20T10:10:41.927135Z",
     "iopub.status.idle": "2021-05-20T10:10:42.459188Z",
     "shell.execute_reply": "2021-05-20T10:10:42.458184Z",
     "shell.execute_reply.started": "2021-05-20T10:10:41.92751Z"
    }
   },
   "outputs": [
    {
     "data": {
      "text/html": [
       "<div>\n",
       "<style scoped>\n",
       "    .dataframe tbody tr th:only-of-type {\n",
       "        vertical-align: middle;\n",
       "    }\n",
       "\n",
       "    .dataframe tbody tr th {\n",
       "        vertical-align: top;\n",
       "    }\n",
       "\n",
       "    .dataframe thead th {\n",
       "        text-align: right;\n",
       "    }\n",
       "</style>\n",
       "<table border=\"1\" class=\"dataframe\">\n",
       "  <thead>\n",
       "    <tr style=\"text-align: right;\">\n",
       "      <th></th>\n",
       "      <th>age_upon_outcome</th>\n",
       "    </tr>\n",
       "  </thead>\n",
       "  <tbody>\n",
       "    <tr>\n",
       "      <th>0</th>\n",
       "      <td>15.0</td>\n",
       "    </tr>\n",
       "    <tr>\n",
       "      <th>1</th>\n",
       "      <td>366.0</td>\n",
       "    </tr>\n",
       "    <tr>\n",
       "      <th>2</th>\n",
       "      <td>429.0</td>\n",
       "    </tr>\n",
       "    <tr>\n",
       "      <th>3</th>\n",
       "      <td>3300.0</td>\n",
       "    </tr>\n",
       "    <tr>\n",
       "      <th>4</th>\n",
       "      <td>181.0</td>\n",
       "    </tr>\n",
       "    <tr>\n",
       "      <th>...</th>\n",
       "      <td>...</td>\n",
       "    </tr>\n",
       "    <tr>\n",
       "      <th>70842</th>\n",
       "      <td>59.0</td>\n",
       "    </tr>\n",
       "    <tr>\n",
       "      <th>70843</th>\n",
       "      <td>1129.0</td>\n",
       "    </tr>\n",
       "    <tr>\n",
       "      <th>70844</th>\n",
       "      <td>365.0</td>\n",
       "    </tr>\n",
       "    <tr>\n",
       "      <th>70845</th>\n",
       "      <td>80.0</td>\n",
       "    </tr>\n",
       "    <tr>\n",
       "      <th>70846</th>\n",
       "      <td>80.0</td>\n",
       "    </tr>\n",
       "  </tbody>\n",
       "</table>\n",
       "<p>70847 rows × 1 columns</p>\n",
       "</div>"
      ],
      "text/plain": [
       "       age_upon_outcome\n",
       "0                  15.0\n",
       "1                 366.0\n",
       "2                 429.0\n",
       "3                3300.0\n",
       "4                 181.0\n",
       "...                 ...\n",
       "70842              59.0\n",
       "70843            1129.0\n",
       "70844             365.0\n",
       "70845              80.0\n",
       "70846              80.0\n",
       "\n",
       "[70847 rows x 1 columns]"
      ]
     },
     "execution_count": 72,
     "metadata": {},
     "output_type": "execute_result"
    }
   ],
   "source": [
    "# Check if any of the resulting values are negative - they should all be positive\n",
    "# To do this, we first need to convert our age_upon_outcome feature to datatype int\n",
    "df[\"age_upon_outcome\"] = df[\"age_upon_outcome\"].astype(int)\n",
    "cols = ['age_upon_outcome']\n",
    "df[df[cols] > 0][cols]"
   ]
  },
  {
   "cell_type": "markdown",
   "metadata": {},
   "source": [
    "From the datetime column, we can work out the month of outcome and year of outcome for each animal. We can find out whether the month of outcome has any influence on the outcome_type of the animal, and year too so we can visualise this later. Again, we can use the datetime column to extract this information.\n",
    "\n",
    "We can do this for month by slicing the final 12 characters and the first 5 characters from each datetime value."
   ]
  },
  {
   "cell_type": "code",
   "execution_count": 73,
   "metadata": {
    "execution": {
     "iopub.execute_input": "2021-05-20T10:10:42.460787Z",
     "iopub.status.busy": "2021-05-20T10:10:42.460487Z",
     "iopub.status.idle": "2021-05-20T10:10:42.676981Z",
     "shell.execute_reply": "2021-05-20T10:10:42.676078Z",
     "shell.execute_reply.started": "2021-05-20T10:10:42.460758Z"
    }
   },
   "outputs": [],
   "source": [
    "# First make sure our feature is converted to a string so we can perform the slice\n",
    "# Do each slice manually to keep things simple\n",
    "df['month_of_outcome'] = df['datetime'].astype(str).str[:-12]\n",
    "df['month_of_outcome'] = df['month_of_outcome'].str[5:]"
   ]
  },
  {
   "cell_type": "code",
   "execution_count": 74,
   "metadata": {
    "execution": {
     "iopub.execute_input": "2021-05-20T10:10:42.678551Z",
     "iopub.status.busy": "2021-05-20T10:10:42.67827Z",
     "iopub.status.idle": "2021-05-20T10:10:42.6959Z",
     "shell.execute_reply": "2021-05-20T10:10:42.694985Z",
     "shell.execute_reply.started": "2021-05-20T10:10:42.678525Z"
    }
   },
   "outputs": [
    {
     "data": {
      "text/html": [
       "<div>\n",
       "<style scoped>\n",
       "    .dataframe tbody tr th:only-of-type {\n",
       "        vertical-align: middle;\n",
       "    }\n",
       "\n",
       "    .dataframe tbody tr th {\n",
       "        vertical-align: top;\n",
       "    }\n",
       "\n",
       "    .dataframe thead th {\n",
       "        text-align: right;\n",
       "    }\n",
       "</style>\n",
       "<table border=\"1\" class=\"dataframe\">\n",
       "  <thead>\n",
       "    <tr style=\"text-align: right;\">\n",
       "      <th></th>\n",
       "      <th>age_upon_outcome</th>\n",
       "      <th>animal_id</th>\n",
       "      <th>animal_type</th>\n",
       "      <th>breed</th>\n",
       "      <th>color</th>\n",
       "      <th>date_of_birth</th>\n",
       "      <th>datetime</th>\n",
       "      <th>monthyear</th>\n",
       "      <th>outcome_type</th>\n",
       "      <th>sex_upon_outcome</th>\n",
       "      <th>month_of_outcome</th>\n",
       "    </tr>\n",
       "  </thead>\n",
       "  <tbody>\n",
       "    <tr>\n",
       "      <th>0</th>\n",
       "      <td>15</td>\n",
       "      <td>A684346</td>\n",
       "      <td>Cat</td>\n",
       "      <td>Domestic Shorthair Mix</td>\n",
       "      <td>Orange Tabby</td>\n",
       "      <td>2014-07-07</td>\n",
       "      <td>2014-07-22 16:04:00</td>\n",
       "      <td>2014-07-22T16:04:00</td>\n",
       "      <td>Transfer</td>\n",
       "      <td>Intact Male</td>\n",
       "      <td>07</td>\n",
       "    </tr>\n",
       "    <tr>\n",
       "      <th>1</th>\n",
       "      <td>366</td>\n",
       "      <td>A666430</td>\n",
       "      <td>Dog</td>\n",
       "      <td>Beagle Mix</td>\n",
       "      <td>White/Brown</td>\n",
       "      <td>2012-11-06</td>\n",
       "      <td>2013-11-07 11:47:00</td>\n",
       "      <td>2013-11-07T11:47:00</td>\n",
       "      <td>Transfer</td>\n",
       "      <td>Spayed Female</td>\n",
       "      <td>11</td>\n",
       "    </tr>\n",
       "    <tr>\n",
       "      <th>2</th>\n",
       "      <td>429</td>\n",
       "      <td>A675708</td>\n",
       "      <td>Dog</td>\n",
       "      <td>Pit Bull</td>\n",
       "      <td>Blue/White</td>\n",
       "      <td>2013-03-31</td>\n",
       "      <td>2014-06-03 14:20:00</td>\n",
       "      <td>2014-06-03T14:20:00</td>\n",
       "      <td>Adoption</td>\n",
       "      <td>Neutered Male</td>\n",
       "      <td>06</td>\n",
       "    </tr>\n",
       "    <tr>\n",
       "      <th>3</th>\n",
       "      <td>3300</td>\n",
       "      <td>A680386</td>\n",
       "      <td>Dog</td>\n",
       "      <td>Miniature Schnauzer Mix</td>\n",
       "      <td>White</td>\n",
       "      <td>2005-06-02</td>\n",
       "      <td>2014-06-15 15:50:00</td>\n",
       "      <td>2014-06-15T15:50:00</td>\n",
       "      <td>Transfer</td>\n",
       "      <td>Neutered Male</td>\n",
       "      <td>06</td>\n",
       "    </tr>\n",
       "    <tr>\n",
       "      <th>4</th>\n",
       "      <td>181</td>\n",
       "      <td>A683115</td>\n",
       "      <td>Other</td>\n",
       "      <td>Bat Mix</td>\n",
       "      <td>Brown</td>\n",
       "      <td>2014-01-07</td>\n",
       "      <td>2014-07-07 14:04:00</td>\n",
       "      <td>2014-07-07T14:04:00</td>\n",
       "      <td>Euthanasia</td>\n",
       "      <td>Unknown</td>\n",
       "      <td>07</td>\n",
       "    </tr>\n",
       "  </tbody>\n",
       "</table>\n",
       "</div>"
      ],
      "text/plain": [
       "   age_upon_outcome animal_id animal_type                    breed  \\\n",
       "0                15   A684346         Cat   Domestic Shorthair Mix   \n",
       "1               366   A666430         Dog               Beagle Mix   \n",
       "2               429   A675708         Dog                 Pit Bull   \n",
       "3              3300   A680386         Dog  Miniature Schnauzer Mix   \n",
       "4               181   A683115       Other                  Bat Mix   \n",
       "\n",
       "          color date_of_birth            datetime            monthyear  \\\n",
       "0  Orange Tabby    2014-07-07 2014-07-22 16:04:00  2014-07-22T16:04:00   \n",
       "1   White/Brown    2012-11-06 2013-11-07 11:47:00  2013-11-07T11:47:00   \n",
       "2    Blue/White    2013-03-31 2014-06-03 14:20:00  2014-06-03T14:20:00   \n",
       "3         White    2005-06-02 2014-06-15 15:50:00  2014-06-15T15:50:00   \n",
       "4         Brown    2014-01-07 2014-07-07 14:04:00  2014-07-07T14:04:00   \n",
       "\n",
       "  outcome_type sex_upon_outcome month_of_outcome  \n",
       "0     Transfer      Intact Male               07  \n",
       "1     Transfer    Spayed Female               11  \n",
       "2     Adoption    Neutered Male               06  \n",
       "3     Transfer    Neutered Male               06  \n",
       "4   Euthanasia          Unknown               07  "
      ]
     },
     "execution_count": 74,
     "metadata": {},
     "output_type": "execute_result"
    }
   ],
   "source": [
    "df.head()"
   ]
  },
  {
   "cell_type": "markdown",
   "metadata": {},
   "source": [
    "We can now do something similar to extract the year, by removing all but the first four characters of the values from the 'datetime' column."
   ]
  },
  {
   "cell_type": "code",
   "execution_count": 75,
   "metadata": {
    "execution": {
     "iopub.execute_input": "2021-05-20T10:10:42.698374Z",
     "iopub.status.busy": "2021-05-20T10:10:42.698045Z",
     "iopub.status.idle": "2021-05-20T10:10:42.900248Z",
     "shell.execute_reply": "2021-05-20T10:10:42.899173Z",
     "shell.execute_reply.started": "2021-05-20T10:10:42.698342Z"
    }
   },
   "outputs": [
    {
     "data": {
      "text/html": [
       "<div>\n",
       "<style scoped>\n",
       "    .dataframe tbody tr th:only-of-type {\n",
       "        vertical-align: middle;\n",
       "    }\n",
       "\n",
       "    .dataframe tbody tr th {\n",
       "        vertical-align: top;\n",
       "    }\n",
       "\n",
       "    .dataframe thead th {\n",
       "        text-align: right;\n",
       "    }\n",
       "</style>\n",
       "<table border=\"1\" class=\"dataframe\">\n",
       "  <thead>\n",
       "    <tr style=\"text-align: right;\">\n",
       "      <th></th>\n",
       "      <th>age_upon_outcome</th>\n",
       "      <th>animal_id</th>\n",
       "      <th>animal_type</th>\n",
       "      <th>breed</th>\n",
       "      <th>color</th>\n",
       "      <th>date_of_birth</th>\n",
       "      <th>datetime</th>\n",
       "      <th>monthyear</th>\n",
       "      <th>outcome_type</th>\n",
       "      <th>sex_upon_outcome</th>\n",
       "      <th>month_of_outcome</th>\n",
       "      <th>year_of_outcome</th>\n",
       "    </tr>\n",
       "  </thead>\n",
       "  <tbody>\n",
       "    <tr>\n",
       "      <th>0</th>\n",
       "      <td>15</td>\n",
       "      <td>A684346</td>\n",
       "      <td>Cat</td>\n",
       "      <td>Domestic Shorthair Mix</td>\n",
       "      <td>Orange Tabby</td>\n",
       "      <td>2014-07-07</td>\n",
       "      <td>2014-07-22 16:04:00</td>\n",
       "      <td>2014-07-22T16:04:00</td>\n",
       "      <td>Transfer</td>\n",
       "      <td>Intact Male</td>\n",
       "      <td>07</td>\n",
       "      <td>2014</td>\n",
       "    </tr>\n",
       "    <tr>\n",
       "      <th>1</th>\n",
       "      <td>366</td>\n",
       "      <td>A666430</td>\n",
       "      <td>Dog</td>\n",
       "      <td>Beagle Mix</td>\n",
       "      <td>White/Brown</td>\n",
       "      <td>2012-11-06</td>\n",
       "      <td>2013-11-07 11:47:00</td>\n",
       "      <td>2013-11-07T11:47:00</td>\n",
       "      <td>Transfer</td>\n",
       "      <td>Spayed Female</td>\n",
       "      <td>11</td>\n",
       "      <td>2013</td>\n",
       "    </tr>\n",
       "    <tr>\n",
       "      <th>2</th>\n",
       "      <td>429</td>\n",
       "      <td>A675708</td>\n",
       "      <td>Dog</td>\n",
       "      <td>Pit Bull</td>\n",
       "      <td>Blue/White</td>\n",
       "      <td>2013-03-31</td>\n",
       "      <td>2014-06-03 14:20:00</td>\n",
       "      <td>2014-06-03T14:20:00</td>\n",
       "      <td>Adoption</td>\n",
       "      <td>Neutered Male</td>\n",
       "      <td>06</td>\n",
       "      <td>2014</td>\n",
       "    </tr>\n",
       "    <tr>\n",
       "      <th>3</th>\n",
       "      <td>3300</td>\n",
       "      <td>A680386</td>\n",
       "      <td>Dog</td>\n",
       "      <td>Miniature Schnauzer Mix</td>\n",
       "      <td>White</td>\n",
       "      <td>2005-06-02</td>\n",
       "      <td>2014-06-15 15:50:00</td>\n",
       "      <td>2014-06-15T15:50:00</td>\n",
       "      <td>Transfer</td>\n",
       "      <td>Neutered Male</td>\n",
       "      <td>06</td>\n",
       "      <td>2014</td>\n",
       "    </tr>\n",
       "    <tr>\n",
       "      <th>4</th>\n",
       "      <td>181</td>\n",
       "      <td>A683115</td>\n",
       "      <td>Other</td>\n",
       "      <td>Bat Mix</td>\n",
       "      <td>Brown</td>\n",
       "      <td>2014-01-07</td>\n",
       "      <td>2014-07-07 14:04:00</td>\n",
       "      <td>2014-07-07T14:04:00</td>\n",
       "      <td>Euthanasia</td>\n",
       "      <td>Unknown</td>\n",
       "      <td>07</td>\n",
       "      <td>2014</td>\n",
       "    </tr>\n",
       "    <tr>\n",
       "      <th>...</th>\n",
       "      <td>...</td>\n",
       "      <td>...</td>\n",
       "      <td>...</td>\n",
       "      <td>...</td>\n",
       "      <td>...</td>\n",
       "      <td>...</td>\n",
       "      <td>...</td>\n",
       "      <td>...</td>\n",
       "      <td>...</td>\n",
       "      <td>...</td>\n",
       "      <td>...</td>\n",
       "      <td>...</td>\n",
       "    </tr>\n",
       "    <tr>\n",
       "      <th>70842</th>\n",
       "      <td>59</td>\n",
       "      <td>A764894</td>\n",
       "      <td>Dog</td>\n",
       "      <td>Golden Retriever/Labrador Retriever</td>\n",
       "      <td>Brown/White</td>\n",
       "      <td>2017-12-04</td>\n",
       "      <td>2018-02-01 18:26:00</td>\n",
       "      <td>2018-02-01T18:26:00</td>\n",
       "      <td>Adoption</td>\n",
       "      <td>Spayed Female</td>\n",
       "      <td>02</td>\n",
       "      <td>2018</td>\n",
       "    </tr>\n",
       "    <tr>\n",
       "      <th>70843</th>\n",
       "      <td>1129</td>\n",
       "      <td>A764468</td>\n",
       "      <td>Dog</td>\n",
       "      <td>Mastiff Mix</td>\n",
       "      <td>Blue/White</td>\n",
       "      <td>2014-12-30</td>\n",
       "      <td>2018-02-01 18:06:00</td>\n",
       "      <td>2018-02-01T18:06:00</td>\n",
       "      <td>Adoption</td>\n",
       "      <td>Neutered Male</td>\n",
       "      <td>02</td>\n",
       "      <td>2018</td>\n",
       "    </tr>\n",
       "    <tr>\n",
       "      <th>70844</th>\n",
       "      <td>365</td>\n",
       "      <td>A766098</td>\n",
       "      <td>Other</td>\n",
       "      <td>Bat Mix</td>\n",
       "      <td>Brown</td>\n",
       "      <td>2017-02-01</td>\n",
       "      <td>2018-02-01 18:08:00</td>\n",
       "      <td>2018-02-01T18:08:00</td>\n",
       "      <td>Euthanasia</td>\n",
       "      <td>Unknown</td>\n",
       "      <td>02</td>\n",
       "      <td>2018</td>\n",
       "    </tr>\n",
       "    <tr>\n",
       "      <th>70845</th>\n",
       "      <td>80</td>\n",
       "      <td>A765858</td>\n",
       "      <td>Dog</td>\n",
       "      <td>Standard Schnauzer</td>\n",
       "      <td>Red</td>\n",
       "      <td>2017-11-13</td>\n",
       "      <td>2018-02-01 18:32:00</td>\n",
       "      <td>2018-02-01T18:32:00</td>\n",
       "      <td>Adoption</td>\n",
       "      <td>Spayed Female</td>\n",
       "      <td>02</td>\n",
       "      <td>2018</td>\n",
       "    </tr>\n",
       "    <tr>\n",
       "      <th>70846</th>\n",
       "      <td>80</td>\n",
       "      <td>A765857</td>\n",
       "      <td>Dog</td>\n",
       "      <td>Labrador Retriever Mix</td>\n",
       "      <td>White/Brown</td>\n",
       "      <td>2017-11-13</td>\n",
       "      <td>2018-02-01 18:44:00</td>\n",
       "      <td>2018-02-01T18:44:00</td>\n",
       "      <td>Adoption</td>\n",
       "      <td>Neutered Male</td>\n",
       "      <td>02</td>\n",
       "      <td>2018</td>\n",
       "    </tr>\n",
       "  </tbody>\n",
       "</table>\n",
       "<p>70847 rows × 12 columns</p>\n",
       "</div>"
      ],
      "text/plain": [
       "       age_upon_outcome animal_id animal_type  \\\n",
       "0                    15   A684346         Cat   \n",
       "1                   366   A666430         Dog   \n",
       "2                   429   A675708         Dog   \n",
       "3                  3300   A680386         Dog   \n",
       "4                   181   A683115       Other   \n",
       "...                 ...       ...         ...   \n",
       "70842                59   A764894         Dog   \n",
       "70843              1129   A764468         Dog   \n",
       "70844               365   A766098       Other   \n",
       "70845                80   A765858         Dog   \n",
       "70846                80   A765857         Dog   \n",
       "\n",
       "                                     breed         color date_of_birth  \\\n",
       "0                   Domestic Shorthair Mix  Orange Tabby    2014-07-07   \n",
       "1                               Beagle Mix   White/Brown    2012-11-06   \n",
       "2                                 Pit Bull    Blue/White    2013-03-31   \n",
       "3                  Miniature Schnauzer Mix         White    2005-06-02   \n",
       "4                                  Bat Mix         Brown    2014-01-07   \n",
       "...                                    ...           ...           ...   \n",
       "70842  Golden Retriever/Labrador Retriever   Brown/White    2017-12-04   \n",
       "70843                          Mastiff Mix    Blue/White    2014-12-30   \n",
       "70844                              Bat Mix         Brown    2017-02-01   \n",
       "70845                   Standard Schnauzer           Red    2017-11-13   \n",
       "70846               Labrador Retriever Mix   White/Brown    2017-11-13   \n",
       "\n",
       "                 datetime            monthyear outcome_type sex_upon_outcome  \\\n",
       "0     2014-07-22 16:04:00  2014-07-22T16:04:00     Transfer      Intact Male   \n",
       "1     2013-11-07 11:47:00  2013-11-07T11:47:00     Transfer    Spayed Female   \n",
       "2     2014-06-03 14:20:00  2014-06-03T14:20:00     Adoption    Neutered Male   \n",
       "3     2014-06-15 15:50:00  2014-06-15T15:50:00     Transfer    Neutered Male   \n",
       "4     2014-07-07 14:04:00  2014-07-07T14:04:00   Euthanasia          Unknown   \n",
       "...                   ...                  ...          ...              ...   \n",
       "70842 2018-02-01 18:26:00  2018-02-01T18:26:00     Adoption    Spayed Female   \n",
       "70843 2018-02-01 18:06:00  2018-02-01T18:06:00     Adoption    Neutered Male   \n",
       "70844 2018-02-01 18:08:00  2018-02-01T18:08:00   Euthanasia          Unknown   \n",
       "70845 2018-02-01 18:32:00  2018-02-01T18:32:00     Adoption    Spayed Female   \n",
       "70846 2018-02-01 18:44:00  2018-02-01T18:44:00     Adoption    Neutered Male   \n",
       "\n",
       "      month_of_outcome year_of_outcome  \n",
       "0                   07            2014  \n",
       "1                   11            2013  \n",
       "2                   06            2014  \n",
       "3                   06            2014  \n",
       "4                   07            2014  \n",
       "...                ...             ...  \n",
       "70842               02            2018  \n",
       "70843               02            2018  \n",
       "70844               02            2018  \n",
       "70845               02            2018  \n",
       "70846               02            2018  \n",
       "\n",
       "[70847 rows x 12 columns]"
      ]
     },
     "execution_count": 75,
     "metadata": {},
     "output_type": "execute_result"
    }
   ],
   "source": [
    "# Remove all but first four characters of\n",
    "# Make sure datatype is string\n",
    "df['year_of_outcome'] = df['datetime'].astype(str).str[:4]\n",
    "df"
   ]
  },
  {
   "cell_type": "markdown",
   "metadata": {},
   "source": [
    "We'll now remove the columns we will not use for prediction making (datetime, monthyear, dateofbirth, animal_id)."
   ]
  },
  {
   "cell_type": "code",
   "execution_count": 76,
   "metadata": {
    "execution": {
     "iopub.execute_input": "2021-05-20T10:10:42.902345Z",
     "iopub.status.busy": "2021-05-20T10:10:42.902068Z",
     "iopub.status.idle": "2021-05-20T10:10:42.923588Z",
     "shell.execute_reply": "2021-05-20T10:10:42.922662Z",
     "shell.execute_reply.started": "2021-05-20T10:10:42.902315Z"
    }
   },
   "outputs": [],
   "source": [
    "df = df.drop(columns=[\"datetime\",\"monthyear\",\"animal_id\",\"date_of_birth\"])"
   ]
  },
  {
   "cell_type": "code",
   "execution_count": 77,
   "metadata": {
    "execution": {
     "iopub.execute_input": "2021-05-20T10:10:42.925185Z",
     "iopub.status.busy": "2021-05-20T10:10:42.924868Z",
     "iopub.status.idle": "2021-05-20T10:10:42.943857Z",
     "shell.execute_reply": "2021-05-20T10:10:42.942858Z",
     "shell.execute_reply.started": "2021-05-20T10:10:42.925156Z"
    },
    "scrolled": true
   },
   "outputs": [
    {
     "data": {
      "text/html": [
       "<div>\n",
       "<style scoped>\n",
       "    .dataframe tbody tr th:only-of-type {\n",
       "        vertical-align: middle;\n",
       "    }\n",
       "\n",
       "    .dataframe tbody tr th {\n",
       "        vertical-align: top;\n",
       "    }\n",
       "\n",
       "    .dataframe thead th {\n",
       "        text-align: right;\n",
       "    }\n",
       "</style>\n",
       "<table border=\"1\" class=\"dataframe\">\n",
       "  <thead>\n",
       "    <tr style=\"text-align: right;\">\n",
       "      <th></th>\n",
       "      <th>age_upon_outcome</th>\n",
       "      <th>animal_type</th>\n",
       "      <th>breed</th>\n",
       "      <th>color</th>\n",
       "      <th>outcome_type</th>\n",
       "      <th>sex_upon_outcome</th>\n",
       "      <th>month_of_outcome</th>\n",
       "      <th>year_of_outcome</th>\n",
       "    </tr>\n",
       "  </thead>\n",
       "  <tbody>\n",
       "    <tr>\n",
       "      <th>0</th>\n",
       "      <td>15</td>\n",
       "      <td>Cat</td>\n",
       "      <td>Domestic Shorthair Mix</td>\n",
       "      <td>Orange Tabby</td>\n",
       "      <td>Transfer</td>\n",
       "      <td>Intact Male</td>\n",
       "      <td>07</td>\n",
       "      <td>2014</td>\n",
       "    </tr>\n",
       "    <tr>\n",
       "      <th>1</th>\n",
       "      <td>366</td>\n",
       "      <td>Dog</td>\n",
       "      <td>Beagle Mix</td>\n",
       "      <td>White/Brown</td>\n",
       "      <td>Transfer</td>\n",
       "      <td>Spayed Female</td>\n",
       "      <td>11</td>\n",
       "      <td>2013</td>\n",
       "    </tr>\n",
       "    <tr>\n",
       "      <th>2</th>\n",
       "      <td>429</td>\n",
       "      <td>Dog</td>\n",
       "      <td>Pit Bull</td>\n",
       "      <td>Blue/White</td>\n",
       "      <td>Adoption</td>\n",
       "      <td>Neutered Male</td>\n",
       "      <td>06</td>\n",
       "      <td>2014</td>\n",
       "    </tr>\n",
       "    <tr>\n",
       "      <th>3</th>\n",
       "      <td>3300</td>\n",
       "      <td>Dog</td>\n",
       "      <td>Miniature Schnauzer Mix</td>\n",
       "      <td>White</td>\n",
       "      <td>Transfer</td>\n",
       "      <td>Neutered Male</td>\n",
       "      <td>06</td>\n",
       "      <td>2014</td>\n",
       "    </tr>\n",
       "    <tr>\n",
       "      <th>4</th>\n",
       "      <td>181</td>\n",
       "      <td>Other</td>\n",
       "      <td>Bat Mix</td>\n",
       "      <td>Brown</td>\n",
       "      <td>Euthanasia</td>\n",
       "      <td>Unknown</td>\n",
       "      <td>07</td>\n",
       "      <td>2014</td>\n",
       "    </tr>\n",
       "    <tr>\n",
       "      <th>...</th>\n",
       "      <td>...</td>\n",
       "      <td>...</td>\n",
       "      <td>...</td>\n",
       "      <td>...</td>\n",
       "      <td>...</td>\n",
       "      <td>...</td>\n",
       "      <td>...</td>\n",
       "      <td>...</td>\n",
       "    </tr>\n",
       "    <tr>\n",
       "      <th>70842</th>\n",
       "      <td>59</td>\n",
       "      <td>Dog</td>\n",
       "      <td>Golden Retriever/Labrador Retriever</td>\n",
       "      <td>Brown/White</td>\n",
       "      <td>Adoption</td>\n",
       "      <td>Spayed Female</td>\n",
       "      <td>02</td>\n",
       "      <td>2018</td>\n",
       "    </tr>\n",
       "    <tr>\n",
       "      <th>70843</th>\n",
       "      <td>1129</td>\n",
       "      <td>Dog</td>\n",
       "      <td>Mastiff Mix</td>\n",
       "      <td>Blue/White</td>\n",
       "      <td>Adoption</td>\n",
       "      <td>Neutered Male</td>\n",
       "      <td>02</td>\n",
       "      <td>2018</td>\n",
       "    </tr>\n",
       "    <tr>\n",
       "      <th>70844</th>\n",
       "      <td>365</td>\n",
       "      <td>Other</td>\n",
       "      <td>Bat Mix</td>\n",
       "      <td>Brown</td>\n",
       "      <td>Euthanasia</td>\n",
       "      <td>Unknown</td>\n",
       "      <td>02</td>\n",
       "      <td>2018</td>\n",
       "    </tr>\n",
       "    <tr>\n",
       "      <th>70845</th>\n",
       "      <td>80</td>\n",
       "      <td>Dog</td>\n",
       "      <td>Standard Schnauzer</td>\n",
       "      <td>Red</td>\n",
       "      <td>Adoption</td>\n",
       "      <td>Spayed Female</td>\n",
       "      <td>02</td>\n",
       "      <td>2018</td>\n",
       "    </tr>\n",
       "    <tr>\n",
       "      <th>70846</th>\n",
       "      <td>80</td>\n",
       "      <td>Dog</td>\n",
       "      <td>Labrador Retriever Mix</td>\n",
       "      <td>White/Brown</td>\n",
       "      <td>Adoption</td>\n",
       "      <td>Neutered Male</td>\n",
       "      <td>02</td>\n",
       "      <td>2018</td>\n",
       "    </tr>\n",
       "  </tbody>\n",
       "</table>\n",
       "<p>70847 rows × 8 columns</p>\n",
       "</div>"
      ],
      "text/plain": [
       "       age_upon_outcome animal_type                                breed  \\\n",
       "0                    15         Cat               Domestic Shorthair Mix   \n",
       "1                   366         Dog                           Beagle Mix   \n",
       "2                   429         Dog                             Pit Bull   \n",
       "3                  3300         Dog              Miniature Schnauzer Mix   \n",
       "4                   181       Other                              Bat Mix   \n",
       "...                 ...         ...                                  ...   \n",
       "70842                59         Dog  Golden Retriever/Labrador Retriever   \n",
       "70843              1129         Dog                          Mastiff Mix   \n",
       "70844               365       Other                              Bat Mix   \n",
       "70845                80         Dog                   Standard Schnauzer   \n",
       "70846                80         Dog               Labrador Retriever Mix   \n",
       "\n",
       "              color outcome_type sex_upon_outcome month_of_outcome  \\\n",
       "0      Orange Tabby     Transfer      Intact Male               07   \n",
       "1       White/Brown     Transfer    Spayed Female               11   \n",
       "2        Blue/White     Adoption    Neutered Male               06   \n",
       "3             White     Transfer    Neutered Male               06   \n",
       "4             Brown   Euthanasia          Unknown               07   \n",
       "...             ...          ...              ...              ...   \n",
       "70842   Brown/White     Adoption    Spayed Female               02   \n",
       "70843    Blue/White     Adoption    Neutered Male               02   \n",
       "70844         Brown   Euthanasia          Unknown               02   \n",
       "70845           Red     Adoption    Spayed Female               02   \n",
       "70846   White/Brown     Adoption    Neutered Male               02   \n",
       "\n",
       "      year_of_outcome  \n",
       "0                2014  \n",
       "1                2013  \n",
       "2                2014  \n",
       "3                2014  \n",
       "4                2014  \n",
       "...               ...  \n",
       "70842            2018  \n",
       "70843            2018  \n",
       "70844            2018  \n",
       "70845            2018  \n",
       "70846            2018  \n",
       "\n",
       "[70847 rows x 8 columns]"
      ]
     },
     "execution_count": 77,
     "metadata": {},
     "output_type": "execute_result"
    }
   ],
   "source": [
    "df"
   ]
  },
  {
   "cell_type": "code",
   "execution_count": 78,
   "metadata": {},
   "outputs": [
    {
     "data": {
      "text/plain": [
       "age_upon_outcome    4086\n",
       "animal_type            5\n",
       "breed               2128\n",
       "color                525\n",
       "outcome_type           9\n",
       "sex_upon_outcome       5\n",
       "month_of_outcome      12\n",
       "year_of_outcome        6\n",
       "dtype: int64"
      ]
     },
     "execution_count": 78,
     "metadata": {},
     "output_type": "execute_result"
    }
   ],
   "source": [
    "df.nunique()"
   ]
  },
  {
   "cell_type": "markdown",
   "metadata": {},
   "source": [
    "Now we will train some models using a subset of the features we have kept up until this point. \n",
    "\n",
    "We are not going to use the \"breed\" or \"color\" features as the cardinality is too high: these two features require deeper cleaning that goes beyond the scale of this particular notebook.\n",
    "\n",
    "We are also going to remove the animal_id, datetime and monthyear columns."
   ]
  },
  {
   "cell_type": "code",
   "execution_count": 79,
   "metadata": {},
   "outputs": [],
   "source": [
    "from sklearn.model_selection import train_test_split\n",
    "\n",
    "# Get dummies for features we're keeping (Except target feature)\n",
    "features = [\"age_upon_outcome\", \"animal_type\", \"sex_upon_outcome\", \"month_of_outcome\", \"year_of_outcome\"] \n",
    "new_df = pd.get_dummies(df[features])\n",
    "\n",
    "# Isolate the descriptive feature from the training set\n",
    "X = new_df\n",
    "Y = np.array(df['outcome_type'])\n",
    "\n",
    "# Split the data into training and test sets\n",
    "X_train, X_test, y_train, y_test \\\n",
    "    = train_test_split(X, Y, \\\n",
    "                        shuffle=True, \\\n",
    "                        stratify = Y, \\\n",
    "                        train_size = 0.7)"
   ]
  },
  {
   "cell_type": "code",
   "execution_count": 80,
   "metadata": {},
   "outputs": [
    {
     "name": "stdout",
     "output_type": "stream",
     "text": [
      "Accuracy: 0.6314278993178076\n"
     ]
    },
    {
     "name": "stderr",
     "output_type": "stream",
     "text": [
      "/home/conor/anaconda3/lib/python3.8/site-packages/sklearn/metrics/_classification.py:1221: UndefinedMetricWarning: Precision and F-score are ill-defined and being set to 0.0 in labels with no predicted samples. Use `zero_division` parameter to control this behavior.\n",
      "  _warn_prf(average, modifier, msg_start, len(result))\n"
     ]
    },
    {
     "name": "stdout",
     "output_type": "stream",
     "text": [
      "                 precision    recall  f1-score   support\n",
      "\n",
      "       Adoption       0.60      0.95      0.74      8824\n",
      "           Died       0.00      0.00      0.00       202\n",
      "       Disposal       0.00      0.00      0.00        91\n",
      "     Euthanasia       0.81      0.49      0.62      1775\n",
      "        Missing       0.00      0.00      0.00        12\n",
      "       Relocate       0.00      0.00      0.00         5\n",
      "Return to Owner       0.00      0.00      0.00      3549\n",
      "      Rto-Adopt       0.00      0.00      0.00        38\n",
      "       Transfer       0.66      0.62      0.64      6759\n",
      "\n",
      "       accuracy                           0.63     21255\n",
      "      macro avg       0.23      0.23      0.22     21255\n",
      "   weighted avg       0.53      0.63      0.56     21255\n",
      "\n"
     ]
    }
   ],
   "source": [
    "from sklearn import metrics\n",
    "from sklearn.ensemble import RandomForestClassifier\n",
    "\n",
    "#features = [\"age_upon_outcome\", \"animal_type\", \"breed\", \"color\", \"sex_upon_outcome\"]\n",
    "#X_train = pd.get_dummies(df[features])\n",
    "#X_test = pd.get_dummies(df[features])\n",
    "\n",
    "model = RandomForestClassifier(n_estimators=100, max_depth=5, random_state=1)\n",
    "model.fit(X_train, y_train)\n",
    "predictions = model.predict(X_test)\n",
    "\n",
    "y_pred=model.predict(X_test)\n",
    "accuracy = metrics.accuracy_score(y_test,y_pred)\n",
    "\n",
    "print(\"Accuracy: \" +  str(accuracy))\n",
    "print(metrics.classification_report(y_test, y_pred))"
   ]
  },
  {
   "cell_type": "code",
   "execution_count": 81,
   "metadata": {},
   "outputs": [
    {
     "name": "stdout",
     "output_type": "stream",
     "text": [
      "[15:19:36] WARNING: ../src/learner.cc:1061: Starting in XGBoost 1.3.0, the default evaluation metric used with the objective 'multi:softprob' was changed from 'merror' to 'mlogloss'. Explicitly set eval_metric if you'd like to restore the old behavior.\n"
     ]
    },
    {
     "name": "stderr",
     "output_type": "stream",
     "text": [
      "/home/conor/anaconda3/lib/python3.8/site-packages/xgboost/sklearn.py:888: UserWarning: The use of label encoder in XGBClassifier is deprecated and will be removed in a future release. To remove this warning, do the following: 1) Pass option use_label_encoder=False when constructing XGBClassifier object; and 2) Encode your labels (y) as integers starting with 0, i.e. 0, 1, 2, ..., [num_class - 1].\n",
      "  warnings.warn(label_encoder_deprecation_msg, UserWarning)\n"
     ]
    },
    {
     "name": "stdout",
     "output_type": "stream",
     "text": [
      "Accuracy: 0.7188426252646436\n",
      "                 precision    recall  f1-score   support\n",
      "\n",
      "       Adoption       0.72      0.89      0.79      8824\n",
      "           Died       0.50      0.02      0.05       202\n",
      "       Disposal       0.56      0.21      0.30        91\n",
      "     Euthanasia       0.78      0.58      0.67      1775\n",
      "        Missing       0.00      0.00      0.00        12\n",
      "       Relocate       0.00      0.00      0.00         5\n",
      "Return to Owner       0.64      0.57      0.60      3549\n",
      "      Rto-Adopt       0.00      0.00      0.00        38\n",
      "       Transfer       0.75      0.65      0.70      6759\n",
      "\n",
      "       accuracy                           0.72     21255\n",
      "      macro avg       0.44      0.32      0.35     21255\n",
      "   weighted avg       0.72      0.72      0.71     21255\n",
      "\n"
     ]
    }
   ],
   "source": [
    "import xgboost as xgb\n",
    "\n",
    "model = xgb.XGBClassifier(objective=\"multi:softprob\", random_state=42)\n",
    "model.fit(X_train, y_train)\n",
    "predictions = model.predict(X_test)\n",
    "\n",
    "y_pred=model.predict(X_test)\n",
    "accuracy = metrics.accuracy_score(y_test,y_pred)\n",
    "\n",
    "print(\"Accuracy: \" +  str(accuracy))\n",
    "print(metrics.classification_report(y_test, y_pred))"
   ]
  },
  {
   "cell_type": "markdown",
   "metadata": {},
   "source": [
    "Now we will train the models again using the same algorithms, but this time we will remove the \"month_of_outcome\" and \"year_of_outcome\" features."
   ]
  },
  {
   "cell_type": "code",
   "execution_count": 82,
   "metadata": {
    "execution": {
     "iopub.execute_input": "2021-05-20T10:10:42.945809Z",
     "iopub.status.busy": "2021-05-20T10:10:42.945445Z",
     "iopub.status.idle": "2021-05-20T10:10:45.294483Z",
     "shell.execute_reply": "2021-05-20T10:10:45.293453Z",
     "shell.execute_reply.started": "2021-05-20T10:10:42.945777Z"
    }
   },
   "outputs": [],
   "source": [
    "# Get dummies for features we're keeping (Except target feature)\n",
    "# This time we drop the features \"month_of_outcome\" and \"year_of_outcome\"\n",
    "features = [\"age_upon_outcome\", \"animal_type\", \"sex_upon_outcome\"] \n",
    "new_df = pd.get_dummies(df[features])\n",
    "\n",
    "# Isolate the descriptive feature from the training set\n",
    "X = new_df\n",
    "Y = np.array(df['outcome_type'])\n",
    "\n",
    "# Split the data into training and test sets\n",
    "X_train, X_test, y_train, y_test \\\n",
    "    = train_test_split(X, Y, \\\n",
    "                        shuffle=True, \\\n",
    "                        stratify = Y, \\\n",
    "                        train_size = 0.7)"
   ]
  },
  {
   "cell_type": "code",
   "execution_count": 83,
   "metadata": {
    "execution": {
     "iopub.execute_input": "2021-05-20T10:10:45.296338Z",
     "iopub.status.busy": "2021-05-20T10:10:45.295895Z",
     "iopub.status.idle": "2021-05-20T10:10:52.549347Z",
     "shell.execute_reply": "2021-05-20T10:10:52.548378Z",
     "shell.execute_reply.started": "2021-05-20T10:10:45.296276Z"
    }
   },
   "outputs": [
    {
     "name": "stdout",
     "output_type": "stream",
     "text": [
      "Accuracy: 0.6448365090566925\n"
     ]
    },
    {
     "name": "stderr",
     "output_type": "stream",
     "text": [
      "/home/conor/anaconda3/lib/python3.8/site-packages/sklearn/metrics/_classification.py:1221: UndefinedMetricWarning: Precision and F-score are ill-defined and being set to 0.0 in labels with no predicted samples. Use `zero_division` parameter to control this behavior.\n",
      "  _warn_prf(average, modifier, msg_start, len(result))\n"
     ]
    },
    {
     "name": "stdout",
     "output_type": "stream",
     "text": [
      "                 precision    recall  f1-score   support\n",
      "\n",
      "       Adoption       0.61      0.95      0.74      8824\n",
      "           Died       0.00      0.00      0.00       202\n",
      "       Disposal       0.00      0.00      0.00        91\n",
      "     Euthanasia       0.79      0.51      0.62      1775\n",
      "        Missing       0.00      0.00      0.00        12\n",
      "       Relocate       0.00      0.00      0.00         5\n",
      "Return to Owner       0.52      0.10      0.16      3549\n",
      "      Rto-Adopt       0.00      0.00      0.00        38\n",
      "       Transfer       0.72      0.60      0.65      6759\n",
      "\n",
      "       accuracy                           0.64     21255\n",
      "      macro avg       0.29      0.24      0.24     21255\n",
      "   weighted avg       0.63      0.64      0.60     21255\n",
      "\n"
     ]
    }
   ],
   "source": [
    "# Define and train a Random Forest Classifier model\n",
    "model = RandomForestClassifier(n_estimators=100, max_depth=5, random_state=1)\n",
    "model.fit(X_train, y_train)\n",
    "\n",
    "# Make predictions based on the test set and save the accuracy score\n",
    "y_pred=model.predict(X_test)\n",
    "accuracy = metrics.accuracy_score(y_test,y_pred)\n",
    "\n",
    "# Print results including accuracy, precision, recall, f1-score and support\n",
    "print(\"Accuracy: \" +  str(accuracy))\n",
    "print(metrics.classification_report(y_test, y_pred))"
   ]
  },
  {
   "cell_type": "markdown",
   "metadata": {},
   "source": []
  },
  {
   "cell_type": "code",
   "execution_count": 84,
   "metadata": {
    "execution": {
     "iopub.execute_input": "2021-05-20T10:10:52.557702Z",
     "iopub.status.busy": "2021-05-20T10:10:52.557254Z"
    }
   },
   "outputs": [
    {
     "name": "stdout",
     "output_type": "stream",
     "text": [
      "[15:19:49] WARNING: ../src/learner.cc:1061: Starting in XGBoost 1.3.0, the default evaluation metric used with the objective 'multi:softprob' was changed from 'merror' to 'mlogloss'. Explicitly set eval_metric if you'd like to restore the old behavior.\n"
     ]
    },
    {
     "name": "stderr",
     "output_type": "stream",
     "text": [
      "/home/conor/anaconda3/lib/python3.8/site-packages/xgboost/sklearn.py:888: UserWarning: The use of label encoder in XGBClassifier is deprecated and will be removed in a future release. To remove this warning, do the following: 1) Pass option use_label_encoder=False when constructing XGBClassifier object; and 2) Encode your labels (y) as integers starting with 0, i.e. 0, 1, 2, ..., [num_class - 1].\n",
      "  warnings.warn(label_encoder_deprecation_msg, UserWarning)\n"
     ]
    },
    {
     "name": "stdout",
     "output_type": "stream",
     "text": [
      "Accuracy: 0.7165843330980946\n",
      "                 precision    recall  f1-score   support\n",
      "\n",
      "       Adoption       0.72      0.89      0.79      8824\n",
      "           Died       0.54      0.03      0.07       202\n",
      "       Disposal       0.40      0.07      0.11        91\n",
      "     Euthanasia       0.77      0.58      0.66      1775\n",
      "        Missing       0.00      0.00      0.00        12\n",
      "       Relocate       0.00      0.00      0.00         5\n",
      "Return to Owner       0.63      0.56      0.59      3549\n",
      "      Rto-Adopt       0.00      0.00      0.00        38\n",
      "       Transfer       0.75      0.65      0.70      6759\n",
      "\n",
      "       accuracy                           0.72     21255\n",
      "      macro avg       0.42      0.31      0.32     21255\n",
      "   weighted avg       0.71      0.72      0.71     21255\n",
      "\n"
     ]
    }
   ],
   "source": [
    "# Define and train an XGBoost Classifier model\n",
    "model = xgb.XGBClassifier(objective=\"multi:softprob\", random_state=42)\n",
    "model.fit(X_train, y_train)\n",
    "#predictions = model.predict(X_test)\n",
    "\n",
    "# Make predictions based on the test set and save the accuracy score\n",
    "y_pred=model.predict(X_test)\n",
    "accuracy = metrics.accuracy_score(y_test,y_pred)\n",
    "\n",
    "# Print results including accuracy, precision, recall, f1-score and support\n",
    "print(\"Accuracy: \" +  str(accuracy))\n",
    "print(metrics.classification_report(y_test, y_pred))"
   ]
  },
  {
   "cell_type": "markdown",
   "metadata": {},
   "source": [
    "The results show that while features such as \"month_outcome\" and \"year_outcome\" are useful in the context of data exploration and creating visualisations, they have little or no impact on the accuracy of the models trained to predict the possible outcome of an animal in a shelter. For this reason, we will keep the model that we have trained with these features removed, as it will be smaller in size and perform better when deployed, with little or no change in terms of classification accuracy."
   ]
  }
 ],
 "metadata": {
  "kernelspec": {
   "display_name": "Python 3",
   "language": "python",
   "name": "python3"
  },
  "language_info": {
   "codemirror_mode": {
    "name": "ipython",
    "version": 3
   },
   "file_extension": ".py",
   "mimetype": "text/x-python",
   "name": "python",
   "nbconvert_exporter": "python",
   "pygments_lexer": "ipython3",
   "version": "3.8.3"
  }
 },
 "nbformat": 4,
 "nbformat_minor": 4
}
